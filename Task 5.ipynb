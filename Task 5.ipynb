{
 "cells": [
  {
   "cell_type": "markdown",
   "metadata": {},
   "source": [
    "## Реализация функций"
   ]
  },
  {
   "cell_type": "markdown",
   "metadata": {},
   "source": [
    "### 1 Метод правых прямоугольников"
   ]
  },
  {
   "cell_type": "code",
   "execution_count": 1,
   "metadata": {},
   "outputs": [],
   "source": [
    "rightSquares = function(f, a, b, n=10000) {\n",
    "    stopifnot(is.function(f))\n",
    "    stopifnot(is.numeric(a))\n",
    "    stopifnot(is.numeric(b))\n",
    "    stopifnot(is.numeric(n) & n %% 1 == 0 & n > 0)\n",
    "    stopifnot(a <= b)\n",
    "    \n",
    "    h <- (b - a) / n\n",
    "    \n",
    "    return (sum(sapply(c(0:(n - 1)), function(i) { f(a + h*i) } )) * h)\n",
    "}"
   ]
  },
  {
   "cell_type": "code",
   "execution_count": 2,
   "metadata": {},
   "outputs": [
    {
     "data": {
      "text/html": [
       "2.333183335"
      ],
      "text/latex": [
       "2.333183335"
      ],
      "text/markdown": [
       "2.333183335"
      ],
      "text/plain": [
       "[1] 2.333183"
      ]
     },
     "metadata": {},
     "output_type": "display_data"
    }
   ],
   "source": [
    "rightSquares(function(x) x^2, 1, 2)"
   ]
  },
  {
   "cell_type": "markdown",
   "metadata": {},
   "source": [
    "### 2 Метод центральных прямоуголников"
   ]
  },
  {
   "cell_type": "code",
   "execution_count": 3,
   "metadata": {},
   "outputs": [],
   "source": [
    "centerSquares <- function(f, a, b, n=10000) {\n",
    "    stopifnot(is.function(f))\n",
    "    stopifnot(is.numeric(a))\n",
    "    stopifnot(is.numeric(b))\n",
    "    stopifnot(is.numeric(n) & n %% 1 == 0 & n > 0)\n",
    "    stopifnot(a <= b)\n",
    "    \n",
    "    h <- (b - a) / n\n",
    "    half_h <- h / 2\n",
    "    \n",
    "    return (sum(sapply(c(0:(n - 1)), function(i) { f(a + h*i + half_h) } )) * h)\n",
    "}"
   ]
  },
  {
   "cell_type": "code",
   "execution_count": 4,
   "metadata": {},
   "outputs": [
    {
     "data": {
      "text/html": [
       "2.3333333325"
      ],
      "text/latex": [
       "2.3333333325"
      ],
      "text/markdown": [
       "2.3333333325"
      ],
      "text/plain": [
       "[1] 2.333333"
      ]
     },
     "metadata": {},
     "output_type": "display_data"
    }
   ],
   "source": [
    "centerSquares(function(x) x^2, 1, 2)"
   ]
  },
  {
   "cell_type": "markdown",
   "metadata": {},
   "source": [
    "### 3 Метод трапеций"
   ]
  },
  {
   "cell_type": "code",
   "execution_count": 5,
   "metadata": {},
   "outputs": [],
   "source": [
    "trapezoids <- function(f, a, b, n=10000) {\n",
    "    stopifnot(is.function(f))\n",
    "    stopifnot(is.numeric(a))\n",
    "    stopifnot(is.numeric(b))\n",
    "    stopifnot(is.numeric(n) & n %% 1 == 0 & n > 0)\n",
    "    stopifnot(a <= b)\n",
    "    \n",
    "    h <- (b - a) / n\n",
    "    \n",
    "    return (sum(sapply(c(0:(n - 1)), function(i) { f(a + h*i) + f(a + h*(i + 1)) } )) * h / 2)\n",
    "}"
   ]
  },
  {
   "cell_type": "code",
   "execution_count": 6,
   "metadata": {},
   "outputs": [
    {
     "data": {
      "text/html": [
       "2.333333335"
      ],
      "text/latex": [
       "2.333333335"
      ],
      "text/markdown": [
       "2.333333335"
      ],
      "text/plain": [
       "[1] 2.333333"
      ]
     },
     "metadata": {},
     "output_type": "display_data"
    }
   ],
   "source": [
    "trapezoids(function(x) x^2, 1, 2)"
   ]
  },
  {
   "cell_type": "markdown",
   "metadata": {},
   "source": [
    "### 4 Метод Симпсона"
   ]
  },
  {
   "cell_type": "code",
   "execution_count": 7,
   "metadata": {},
   "outputs": [],
   "source": [
    "simpsons <- function(f, a, b, n=10000) {\n",
    "    stopifnot(is.function(f))\n",
    "    stopifnot(is.numeric(a))\n",
    "    stopifnot(is.numeric(b))\n",
    "    stopifnot(is.numeric(n) & n %% 1 == 0 & n > 0)\n",
    "    stopifnot(a <= b)\n",
    "    \n",
    "    h <- (b - a) / (2 * n)\n",
    "    \n",
    "    return (\n",
    "        (\n",
    "            f(a) + \n",
    "            f(b) + \n",
    "            4 * sum(sapply(c(0:(n - 1)), function(i) { f(a + h*(2*i - 1)) } )) + \n",
    "            2 * sum(sapply(c(0:(n - 1)), function(i) { f(a + h*2*i) } ))\n",
    "        ) * h / 3\n",
    "    )\n",
    "}"
   ]
  },
  {
   "cell_type": "code",
   "execution_count": 8,
   "metadata": {},
   "outputs": [
    {
     "data": {
      "text/html": [
       "2.33316667333333"
      ],
      "text/latex": [
       "2.33316667333333"
      ],
      "text/markdown": [
       "2.33316667333333"
      ],
      "text/plain": [
       "[1] 2.333167"
      ]
     },
     "metadata": {},
     "output_type": "display_data"
    }
   ],
   "source": [
    "simpsons(function(x) x^2, 1, 2)"
   ]
  },
  {
   "cell_type": "markdown",
   "metadata": {},
   "source": [
    "### 1* Метод правых прямоугольников (через цикл)"
   ]
  },
  {
   "cell_type": "code",
   "execution_count": 9,
   "metadata": {},
   "outputs": [],
   "source": [
    "rightSquaresLoop <- function(f, a, b, n=10000) {\n",
    "    stopifnot(is.function(f))\n",
    "    stopifnot(is.numeric(a))\n",
    "    stopifnot(is.numeric(b))\n",
    "    stopifnot(is.numeric(n) & n %% 1 == 0 & n > 0)\n",
    "    stopifnot(a <= b)\n",
    "    \n",
    "    h <- (b - a) / n\n",
    "    \n",
    "    result <- 0\n",
    "    for (i in 0:(n - 1)) {\n",
    "        result <- result + f(a + h*i)\n",
    "    }\n",
    "    result <- result * h\n",
    "    return (result)\n",
    "}"
   ]
  },
  {
   "cell_type": "code",
   "execution_count": 10,
   "metadata": {},
   "outputs": [
    {
     "data": {
      "text/plain": [
       "   user  system elapsed \n",
       "   0.39    0.00    0.39 "
      ]
     },
     "metadata": {},
     "output_type": "display_data"
    }
   ],
   "source": [
    "system.time( for (i in 1:100) rightSquaresLoop(function(x) x^2, i, i + 1) )"
   ]
  },
  {
   "cell_type": "code",
   "execution_count": 11,
   "metadata": {},
   "outputs": [
    {
     "data": {
      "text/plain": [
       "   user  system elapsed \n",
       "   1.09    0.00    1.12 "
      ]
     },
     "metadata": {},
     "output_type": "display_data"
    }
   ],
   "source": [
    "system.time( for (i in 1:100) rightSquares(function(x) x^2, i, i + 1) )"
   ]
  },
  {
   "cell_type": "markdown",
   "metadata": {},
   "source": [
    "### 2* Метод центральных прямоугольников (через цикл)"
   ]
  },
  {
   "cell_type": "code",
   "execution_count": 12,
   "metadata": {},
   "outputs": [],
   "source": [
    "centerSquaresLoop <- function(f, a, b, n=10000) {\n",
    "    stopifnot(is.function(f))\n",
    "    stopifnot(is.numeric(a))\n",
    "    stopifnot(is.numeric(b))\n",
    "    stopifnot(is.numeric(n) & n %% 1 == 0 & n > 0)\n",
    "    stopifnot(a <= b)\n",
    "    \n",
    "    h <- (b - a) / n\n",
    "    half_h <- h / 2\n",
    "    \n",
    "    result <- 0\n",
    "    for (i in 0:(n - 1)) {\n",
    "        result <- result + f(a + h*i + half_h)\n",
    "    }\n",
    "    result <- result * h\n",
    "    \n",
    "    return (result)\n",
    "}"
   ]
  },
  {
   "cell_type": "code",
   "execution_count": 13,
   "metadata": {},
   "outputs": [
    {
     "data": {
      "text/plain": [
       "   user  system elapsed \n",
       "   0.42    0.00    0.42 "
      ]
     },
     "metadata": {},
     "output_type": "display_data"
    }
   ],
   "source": [
    "system.time( for (i in 1:100) centerSquaresLoop(function(x) x^2, i, i + 1) )"
   ]
  },
  {
   "cell_type": "code",
   "execution_count": 14,
   "metadata": {},
   "outputs": [
    {
     "data": {
      "text/plain": [
       "   user  system elapsed \n",
       "   0.97    0.00    0.97 "
      ]
     },
     "metadata": {},
     "output_type": "display_data"
    }
   ],
   "source": [
    "system.time( for (i in 1:100) centerSquares(function(x) x^2, i, i + 1) )"
   ]
  },
  {
   "cell_type": "markdown",
   "metadata": {},
   "source": [
    "### 3* Метод трапеций (через цикл)"
   ]
  },
  {
   "cell_type": "code",
   "execution_count": 15,
   "metadata": {},
   "outputs": [],
   "source": [
    "trapezoidsLoop <- function(f, a, b, n=10000) {\n",
    "    stopifnot(is.function(f))\n",
    "    stopifnot(is.numeric(a))\n",
    "    stopifnot(is.numeric(b))\n",
    "    stopifnot(is.numeric(n) & n %% 1 == 0 & n > 0)\n",
    "    stopifnot(a <= b)\n",
    "    \n",
    "    h <- (b - a) / n\n",
    "    \n",
    "    result <- 0\n",
    "    for (i in 0:(n - 1)) {\n",
    "        result <- result + f(a + h*i) + f(a + h*(i + 1))\n",
    "    }\n",
    "    result <- result * h / 2\n",
    "    \n",
    "    return (result)\n",
    "}"
   ]
  },
  {
   "cell_type": "code",
   "execution_count": 16,
   "metadata": {},
   "outputs": [
    {
     "data": {
      "text/plain": [
       "   user  system elapsed \n",
       "   0.76    0.00    0.76 "
      ]
     },
     "metadata": {},
     "output_type": "display_data"
    }
   ],
   "source": [
    "system.time( for (i in 1:100) trapezoidsLoop(function(x) x^2, i, i + 1) )"
   ]
  },
  {
   "cell_type": "code",
   "execution_count": 17,
   "metadata": {},
   "outputs": [
    {
     "data": {
      "text/plain": [
       "   user  system elapsed \n",
       "   1.52    0.00    1.51 "
      ]
     },
     "metadata": {},
     "output_type": "display_data"
    }
   ],
   "source": [
    "system.time( for (i in 1:100) trapezoids(function(x) x^2, i, i + 1) )"
   ]
  },
  {
   "cell_type": "markdown",
   "metadata": {},
   "source": [
    "### 4* Метод Симпсона (через цикл)"
   ]
  },
  {
   "cell_type": "code",
   "execution_count": 18,
   "metadata": {},
   "outputs": [],
   "source": [
    "simpsonsLoop <- function(f, a, b, n=10000) {\n",
    "    stopifnot(is.function(f))\n",
    "    stopifnot(is.numeric(a))\n",
    "    stopifnot(is.numeric(b))\n",
    "    stopifnot(is.numeric(n) & n %% 1 == 0 & n > 0)\n",
    "    stopifnot(a <= b)\n",
    "    \n",
    "    h <- (b - a) / (2 * n)\n",
    "    \n",
    "    result <- f(a) + f(b)\n",
    "    for (i in 0:(n - 1)) {\n",
    "        result <- result + 4*f(a + h*(2*i - 1)) + 2*f(a + h*2*i)\n",
    "    }\n",
    "    result <- result * h / 3\n",
    "    \n",
    "    return (result)\n",
    "}"
   ]
  },
  {
   "cell_type": "code",
   "execution_count": 19,
   "metadata": {},
   "outputs": [
    {
     "data": {
      "text/plain": [
       "   user  system elapsed \n",
       "   0.76    0.00    0.77 "
      ]
     },
     "metadata": {},
     "output_type": "display_data"
    }
   ],
   "source": [
    "system.time( for (i in 1:100) simpsonsLoop(function(x) x^2, i, i + 1) )"
   ]
  },
  {
   "cell_type": "code",
   "execution_count": 20,
   "metadata": {},
   "outputs": [
    {
     "data": {
      "text/plain": [
       "   user  system elapsed \n",
       "   2.16    0.00    2.16 "
      ]
     },
     "metadata": {},
     "output_type": "display_data"
    }
   ],
   "source": [
    "system.time( for (i in 1:100) simpsons(function(x) x^2, i, i + 1) )"
   ]
  },
  {
   "cell_type": "markdown",
   "metadata": {},
   "source": [
    "# Задача (Численное интегрирование)"
   ]
  },
  {
   "cell_type": "markdown",
   "metadata": {},
   "source": [
    "## 0"
   ]
  },
  {
   "cell_type": "markdown",
   "metadata": {},
   "source": [
    "**Для ввода данных с клавиатуры:**\n",
    "\n",
    "Сначала вводится **ID метода интегрирования**: целое число от *1* до *4* включительно. *Завершение* - любое другое целое число.\n",
    "\n",
    "Затем вводится 3 числа: $$a = x_0,$$ $$b = x_n,$$ $$n$$ соответственно.\n",
    "\n",
    "Повторять, пока не надоест."
   ]
  },
  {
   "cell_type": "code",
   "execution_count": 21,
   "metadata": {},
   "outputs": [],
   "source": [
    "getKeyboardInput <- function() {\n",
    "    result <- data.frame()\n",
    "    \n",
    "    methodID <- readline(prompt=\"ID метода: \")\n",
    "    id <- 1\n",
    "    while (as.integer(methodID) >= 1 & as.integer(methodID) <= 4) {    \n",
    "\n",
    "        a <- as.numeric(readline(prompt=\"A = \"))\n",
    "        b <- as.numeric(readline(prompt=\"B = \"))\n",
    "        n <- as.integer(readline(prompt=\"N = \"))\n",
    "        \n",
    "        if (id == 1) {\n",
    "            result <- data.frame(MethodID = id, A = a, B = b, N = n)\n",
    "        }\n",
    "        else {\n",
    "            result <- rbind(result, c(id, a, b, n))\n",
    "        }\n",
    "\n",
    "        id <- id + 1\n",
    "        methodID <- as.integer(readline(prompt=\"ID метода: \"))\n",
    "    }\n",
    "    \n",
    "    return (result)\n",
    "}"
   ]
  },
  {
   "cell_type": "markdown",
   "metadata": {},
   "source": [
    "**Для ввода данных из файла:**\n",
    "\n",
    "Содержимое файла должно быть в формате *csv* с 4мя полями: \n",
    "* MethodID (ID метода интегрирования) - целое число от 1 до 4 включительно;\n",
    "* A (начало промежутка интегрирования) - вещественное число;\n",
    "* B (конец промежутка интегрирования) - вещественное число;\n",
    "* N (количество разбиений) - натуральное число."
   ]
  },
  {
   "cell_type": "code",
   "execution_count": 22,
   "metadata": {},
   "outputs": [],
   "source": [
    "getFileInput <- function(inputFilePath) {\n",
    "    stopifnot(is.character(inputFilePath))\n",
    "    \n",
    "    result <- read.csv(inputFilePath)    \n",
    "    stopifnot(names(result) == c(\"MethodID\", \"A\", \"B\", \"N\"))\n",
    "    \n",
    "    return (result)\n",
    "}"
   ]
  },
  {
   "cell_type": "markdown",
   "metadata": {},
   "source": [
    "## 0.5"
   ]
  },
  {
   "cell_type": "code",
   "execution_count": 23,
   "metadata": {},
   "outputs": [
    {
     "name": "stdin",
     "output_type": "stream",
     "text": [
      "Имя выходного файла:  result\n",
      "Путь к выходному файлу:  ./data_output/\n"
     ]
    }
   ],
   "source": [
    "outputFilename <- readline(prompt=\"Имя выходного файла: \")\n",
    "outputFilepath <- readline(prompt=\"Путь к выходному файлу: \")"
   ]
  },
  {
   "cell_type": "markdown",
   "metadata": {},
   "source": [
    "## 1 - 2"
   ]
  },
  {
   "cell_type": "code",
   "execution_count": 24,
   "metadata": {},
   "outputs": [],
   "source": [
    "f <- function(x) (x^3 - x^2 + 5*x + 5*sin(2*x + x^2)*cos(2*x + x^2) + 3) * exp(-x)"
   ]
  },
  {
   "cell_type": "code",
   "execution_count": 25,
   "metadata": {},
   "outputs": [
    {
     "name": "stdin",
     "output_type": "stream",
     "text": [
      "Выберите способ ввода данных (1 - Вручную или 2 - Из файла):  2\n"
     ]
    }
   ],
   "source": [
    "inputMethod <- as.integer(readline(prompt=\"Выберите способ ввода данных (1 - Вручную или 2 - Из файла): \"))\n",
    "stopifnot(inputMethod == 1 || inputMethod == 2)"
   ]
  },
  {
   "cell_type": "code",
   "execution_count": 26,
   "metadata": {},
   "outputs": [
    {
     "name": "stdin",
     "output_type": "stream",
     "text": [
      "Полное имя файла ввода (с расширением и путём до него):  ./data_input/input.csv\n"
     ]
    }
   ],
   "source": [
    "input <- data.frame()\n",
    "\n",
    "if (inputMethod == 1) {\n",
    "    input <- getKeyboardInput()\n",
    "} else {\n",
    "    inputFilename <- readline(prompt=\"Полное имя файла ввода (с расширением и путём до него): \")\n",
    "    \n",
    "    input <- getFileInput(inputFilename)\n",
    "}"
   ]
  },
  {
   "cell_type": "code",
   "execution_count": 27,
   "metadata": {},
   "outputs": [
    {
     "data": {
      "text/html": [
       "<table>\n",
       "<thead><tr><th scope=col>MethodID</th><th scope=col>A</th><th scope=col>B</th><th scope=col>N</th><th scope=col>Method</th></tr></thead>\n",
       "<tbody>\n",
       "\t<tr><td>1                         </td><td> 1                        </td><td> 2                        </td><td>10000                     </td><td>Правых прямоугольников    </td></tr>\n",
       "\t<tr><td>3                         </td><td> 1                        </td><td> 2                        </td><td>10000                     </td><td>Трапеций                  </td></tr>\n",
       "\t<tr><td>2                         </td><td> 1                        </td><td> 2                        </td><td>10000                     </td><td>Серединных прямоугольников</td></tr>\n",
       "\t<tr><td>4                         </td><td> 1                        </td><td> 2                        </td><td>10000                     </td><td>Симпсона                  </td></tr>\n",
       "\t<tr><td>2                         </td><td>10                        </td><td>25                        </td><td> 1000                     </td><td>Серединных прямоугольников</td></tr>\n",
       "\t<tr><td>4                         </td><td> 3                        </td><td> 7                        </td><td>  100                     </td><td>Симпсона                  </td></tr>\n",
       "</tbody>\n",
       "</table>\n"
      ],
      "text/latex": [
       "\\begin{tabular}{r|lllll}\n",
       " MethodID & A & B & N & Method\\\\\n",
       "\\hline\n",
       "\t 1                          &  1                         &  2                         & 10000                      & Правых прямоугольников    \\\\\n",
       "\t 3                          &  1                         &  2                         & 10000                      & Трапеций                  \\\\\n",
       "\t 2                          &  1                         &  2                         & 10000                      & Серединных прямоугольников\\\\\n",
       "\t 4                          &  1                         &  2                         & 10000                      & Симпсона                  \\\\\n",
       "\t 2                          & 10                         & 25                         &  1000                      & Серединных прямоугольников\\\\\n",
       "\t 4                          &  3                         &  7                         &   100                      & Симпсона                  \\\\\n",
       "\\end{tabular}\n"
      ],
      "text/markdown": [
       "\n",
       "| MethodID | A | B | N | Method |\n",
       "|---|---|---|---|---|\n",
       "| 1                          |  1                         |  2                         | 10000                      | Правых прямоугольников     |\n",
       "| 3                          |  1                         |  2                         | 10000                      | Трапеций                   |\n",
       "| 2                          |  1                         |  2                         | 10000                      | Серединных прямоугольников |\n",
       "| 4                          |  1                         |  2                         | 10000                      | Симпсона                   |\n",
       "| 2                          | 10                         | 25                         |  1000                      | Серединных прямоугольников |\n",
       "| 4                          |  3                         |  7                         |   100                      | Симпсона                   |\n",
       "\n"
      ],
      "text/plain": [
       "  MethodID A  B  N     Method                    \n",
       "1 1         1  2 10000 Правых прямоугольников    \n",
       "2 3         1  2 10000 Трапеций                  \n",
       "3 2         1  2 10000 Серединных прямоугольников\n",
       "4 4         1  2 10000 Симпсона                  \n",
       "5 2        10 25  1000 Серединных прямоугольников\n",
       "6 4         3  7   100 Симпсона                  "
      ]
     },
     "metadata": {},
     "output_type": "display_data"
    }
   ],
   "source": [
    "result <- input\n",
    "\n",
    "result$Method <- sapply(result$MethodID, function (x) switch(x,\n",
    "                         '1'=\"Правых прямоугольников\",\n",
    "                         '2'=\"Серединных прямоугольников\",\n",
    "                         '3'=\"Трапеций\",\n",
    "                         '4'=\"Симпсона\",\n",
    "                         \"Unknown\"))\n",
    "head(result)"
   ]
  },
  {
   "cell_type": "code",
   "execution_count": 28,
   "metadata": {},
   "outputs": [
    {
     "data": {
      "text/html": [
       "<table>\n",
       "<thead><tr><th scope=col>MethodID</th><th scope=col>A</th><th scope=col>B</th><th scope=col>N</th><th scope=col>Method</th><th scope=col>Result</th></tr></thead>\n",
       "<tbody>\n",
       "\t<tr><td>1                         </td><td> 1                        </td><td> 2                        </td><td>10000                     </td><td>Правых прямоугольников    </td><td>2.7311482                 </td></tr>\n",
       "\t<tr><td>3                         </td><td> 1                        </td><td> 2                        </td><td>10000                     </td><td>Трапеций                  </td><td>2.7311241                 </td></tr>\n",
       "\t<tr><td>2                         </td><td> 1                        </td><td> 2                        </td><td>10000                     </td><td>Серединных прямоугольников</td><td>2.7311241                 </td></tr>\n",
       "\t<tr><td>4                         </td><td> 1                        </td><td> 2                        </td><td>10000                     </td><td>Симпсона                  </td><td>2.7312458                 </td></tr>\n",
       "\t<tr><td>2                         </td><td>10                        </td><td>25                        </td><td> 1000                     </td><td>Серединных прямоугольников</td><td>0.0591111                 </td></tr>\n",
       "\t<tr><td>4                         </td><td> 3                        </td><td> 7                        </td><td>  100                     </td><td>Симпсона                  </td><td>3.7709411                 </td></tr>\n",
       "</tbody>\n",
       "</table>\n"
      ],
      "text/latex": [
       "\\begin{tabular}{r|llllll}\n",
       " MethodID & A & B & N & Method & Result\\\\\n",
       "\\hline\n",
       "\t 1                          &  1                         &  2                         & 10000                      & Правых прямоугольников     & 2.7311482                 \\\\\n",
       "\t 3                          &  1                         &  2                         & 10000                      & Трапеций                   & 2.7311241                 \\\\\n",
       "\t 2                          &  1                         &  2                         & 10000                      & Серединных прямоугольников & 2.7311241                 \\\\\n",
       "\t 4                          &  1                         &  2                         & 10000                      & Симпсона                   & 2.7312458                 \\\\\n",
       "\t 2                          & 10                         & 25                         &  1000                      & Серединных прямоугольников & 0.0591111                 \\\\\n",
       "\t 4                          &  3                         &  7                         &   100                      & Симпсона                   & 3.7709411                 \\\\\n",
       "\\end{tabular}\n"
      ],
      "text/markdown": [
       "\n",
       "| MethodID | A | B | N | Method | Result |\n",
       "|---|---|---|---|---|---|\n",
       "| 1                          |  1                         |  2                         | 10000                      | Правых прямоугольников     | 2.7311482                  |\n",
       "| 3                          |  1                         |  2                         | 10000                      | Трапеций                   | 2.7311241                  |\n",
       "| 2                          |  1                         |  2                         | 10000                      | Серединных прямоугольников | 2.7311241                  |\n",
       "| 4                          |  1                         |  2                         | 10000                      | Симпсона                   | 2.7312458                  |\n",
       "| 2                          | 10                         | 25                         |  1000                      | Серединных прямоугольников | 0.0591111                  |\n",
       "| 4                          |  3                         |  7                         |   100                      | Симпсона                   | 3.7709411                  |\n",
       "\n"
      ],
      "text/plain": [
       "  MethodID A  B  N     Method                     Result   \n",
       "1 1         1  2 10000 Правых прямоугольников     2.7311482\n",
       "2 3         1  2 10000 Трапеций                   2.7311241\n",
       "3 2         1  2 10000 Серединных прямоугольников 2.7311241\n",
       "4 4         1  2 10000 Симпсона                   2.7312458\n",
       "5 2        10 25  1000 Серединных прямоугольников 0.0591111\n",
       "6 4         3  7   100 Симпсона                   3.7709411"
      ]
     },
     "metadata": {},
     "output_type": "display_data"
    }
   ],
   "source": [
    "for (i in 1:length(result[,1])) {\n",
    "    method <- switch(result$MethodID[i], \n",
    "                                    '1'=rightSquaresLoop,\n",
    "                                    '2'=centerSquaresLoop,\n",
    "                                    '3'=trapezoidsLoop,\n",
    "                                    '4'=simpsonsLoop)\n",
    "    result$Result[i] <- method(f, result$A[i], result$B[i], result$N[i])\n",
    "}\n",
    "head(result)"
   ]
  },
  {
   "cell_type": "code",
   "execution_count": 29,
   "metadata": {},
   "outputs": [
    {
     "data": {
      "text/html": [
       "<table>\n",
       "<thead><tr><th scope=col>A</th><th scope=col>B</th><th scope=col>N</th><th scope=col>Method</th><th scope=col>Result</th></tr></thead>\n",
       "<tbody>\n",
       "\t<tr><td> 1                        </td><td> 2                        </td><td>10000                     </td><td>Правых прямоугольников    </td><td>2.7311482                 </td></tr>\n",
       "\t<tr><td> 1                        </td><td> 2                        </td><td>10000                     </td><td>Трапеций                  </td><td>2.7311241                 </td></tr>\n",
       "\t<tr><td> 1                        </td><td> 2                        </td><td>10000                     </td><td>Серединных прямоугольников</td><td>2.7311241                 </td></tr>\n",
       "\t<tr><td> 1                        </td><td> 2                        </td><td>10000                     </td><td>Симпсона                  </td><td>2.7312458                 </td></tr>\n",
       "\t<tr><td>10                        </td><td>25                        </td><td> 1000                     </td><td>Серединных прямоугольников</td><td>0.0591111                 </td></tr>\n",
       "\t<tr><td> 3                        </td><td> 7                        </td><td>  100                     </td><td>Симпсона                  </td><td>3.7709411                 </td></tr>\n",
       "</tbody>\n",
       "</table>\n"
      ],
      "text/latex": [
       "\\begin{tabular}{r|lllll}\n",
       " A & B & N & Method & Result\\\\\n",
       "\\hline\n",
       "\t  1                         &  2                         & 10000                      & Правых прямоугольников     & 2.7311482                 \\\\\n",
       "\t  1                         &  2                         & 10000                      & Трапеций                   & 2.7311241                 \\\\\n",
       "\t  1                         &  2                         & 10000                      & Серединных прямоугольников & 2.7311241                 \\\\\n",
       "\t  1                         &  2                         & 10000                      & Симпсона                   & 2.7312458                 \\\\\n",
       "\t 10                         & 25                         &  1000                      & Серединных прямоугольников & 0.0591111                 \\\\\n",
       "\t  3                         &  7                         &   100                      & Симпсона                   & 3.7709411                 \\\\\n",
       "\\end{tabular}\n"
      ],
      "text/markdown": [
       "\n",
       "| A | B | N | Method | Result |\n",
       "|---|---|---|---|---|\n",
       "|  1                         |  2                         | 10000                      | Правых прямоугольников     | 2.7311482                  |\n",
       "|  1                         |  2                         | 10000                      | Трапеций                   | 2.7311241                  |\n",
       "|  1                         |  2                         | 10000                      | Серединных прямоугольников | 2.7311241                  |\n",
       "|  1                         |  2                         | 10000                      | Симпсона                   | 2.7312458                  |\n",
       "| 10                         | 25                         |  1000                      | Серединных прямоугольников | 0.0591111                  |\n",
       "|  3                         |  7                         |   100                      | Симпсона                   | 3.7709411                  |\n",
       "\n"
      ],
      "text/plain": [
       "  A  B  N     Method                     Result   \n",
       "1  1  2 10000 Правых прямоугольников     2.7311482\n",
       "2  1  2 10000 Трапеций                   2.7311241\n",
       "3  1  2 10000 Серединных прямоугольников 2.7311241\n",
       "4  1  2 10000 Симпсона                   2.7312458\n",
       "5 10 25  1000 Серединных прямоугольников 0.0591111\n",
       "6  3  7   100 Симпсона                   3.7709411"
      ]
     },
     "metadata": {},
     "output_type": "display_data"
    }
   ],
   "source": [
    "result <- result[-1]\n",
    "head(result)"
   ]
  },
  {
   "cell_type": "markdown",
   "metadata": {},
   "source": [
    "## 3"
   ]
  },
  {
   "cell_type": "code",
   "execution_count": 30,
   "metadata": {},
   "outputs": [],
   "source": [
    "dir.create(file.path(\"./\", outputFilepath), showWarnings=FALSE)"
   ]
  },
  {
   "cell_type": "code",
   "execution_count": 31,
   "metadata": {},
   "outputs": [],
   "source": [
    "outputPath <- paste(outputFilepath, outputFilename, \".csv\", sep=\"\")"
   ]
  },
  {
   "cell_type": "code",
   "execution_count": 32,
   "metadata": {},
   "outputs": [],
   "source": [
    "write.csv(result, outputPath, fileEncoding=\"UTF-8\")"
   ]
  },
  {
   "cell_type": "code",
   "execution_count": null,
   "metadata": {},
   "outputs": [],
   "source": []
  }
 ],
 "metadata": {
  "kernelspec": {
   "display_name": "R",
   "language": "R",
   "name": "ir"
  },
  "language_info": {
   "codemirror_mode": "r",
   "file_extension": ".r",
   "mimetype": "text/x-r-source",
   "name": "R",
   "pygments_lexer": "r",
   "version": "3.6.1"
  }
 },
 "nbformat": 4,
 "nbformat_minor": 4
}
