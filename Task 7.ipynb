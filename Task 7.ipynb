{
 "cells": [
  {
   "cell_type": "markdown",
   "metadata": {},
   "source": [
    "## 1"
   ]
  },
  {
   "cell_type": "code",
   "execution_count": 1,
   "metadata": {},
   "outputs": [],
   "source": [
    "f <- function(x) x^2"
   ]
  },
  {
   "cell_type": "code",
   "execution_count": 2,
   "metadata": {},
   "outputs": [],
   "source": [
    "x <- seq(-10, 10, 0.1)\n",
    "y <- f(x)"
   ]
  },
  {
   "cell_type": "code",
   "execution_count": 3,
   "metadata": {},
   "outputs": [
    {
     "data": {
      "image/png": "[encoded data removed]",
      "text/plain": [
       "Plot with title \"x^2\""
      ]
     },
     "metadata": {},
     "output_type": "display_data"
    }
   ],
   "source": [
    "plot(x, y, type=\"l\", main=\"x^2\", sub=Sys.Date())"
   ]
  },
  {
   "cell_type": "markdown",
   "metadata": {},
   "source": [
    "## 2"
   ]
  },
  {
   "cell_type": "code",
   "execution_count": 4,
   "metadata": {},
   "outputs": [],
   "source": [
    "marks <- matrix(0, 4, 3)"
   ]
  },
  {
   "cell_type": "markdown",
   "metadata": {},
   "source": [
    "Мы не можем в Jupyter использовать ``edit()``, поэтму лепим костыли"
   ]
  },
  {
   "cell_type": "code",
   "execution_count": 5,
   "metadata": {},
   "outputs": [],
   "source": [
    "# edit(marks)"
   ]
  },
  {
   "cell_type": "code",
   "execution_count": 6,
   "metadata": {},
   "outputs": [],
   "source": [
    "input_vector <- function(len, prompt=\"\", elements=c(), handle=function(x) { as.numeric(x) }) {\n",
    "    if (length(elements) == 0) {\n",
    "        elements <- 1:len\n",
    "    }\n",
    "    vec = rep(c(0), len)\n",
    "    \n",
    "    for (i in 1:len) {\n",
    "        vec[i] = handle(readline(prompt=paste(prompt, \" оценка за \", elements[i], \":\", sep=\"\")))\n",
    "    }\n",
    "    \n",
    "    return (vec)\n",
    "}"
   ]
  },
  {
   "cell_type": "code",
   "execution_count": 7,
   "metadata": {},
   "outputs": [
    {
     "name": "stdin",
     "output_type": "stream",
     "text": [
      "Студент 1 оценка за Введение в профф: 3\n",
      "Студент 1 оценка за Математическая логика: 3\n",
      "Студент 1 оценка за Теория графов: 4\n",
      "Студент 2 оценка за Введение в профф: 4\n",
      "Студент 2 оценка за Математическая логика: 5\n",
      "Студент 2 оценка за Теория графов: 4\n",
      "Студент 3 оценка за Введение в профф: 4\n",
      "Студент 3 оценка за Математическая логика: 4\n",
      "Студент 3 оценка за Теория графов: 5\n",
      "Студент 4 оценка за Введение в профф: 5\n",
      "Студент 4 оценка за Математическая логика: 5\n",
      "Студент 4 оценка за Теория графов: 5\n"
     ]
    }
   ],
   "source": [
    "input <- sapply(1:4, function (x) input_vector(3, prompt=paste(\"Студент\", x), elements=c(\"Введение в профф\", \"Математическая логика\", \"Теория графов\")))"
   ]
  },
  {
   "cell_type": "code",
   "execution_count": 8,
   "metadata": {},
   "outputs": [],
   "source": [
    "input <- t(input)"
   ]
  },
  {
   "cell_type": "code",
   "execution_count": 9,
   "metadata": {},
   "outputs": [],
   "source": [
    "rownames(input) <- sapply(1:length(input[,1]), function(x) paste(\"Студент\", x))"
   ]
  },
  {
   "cell_type": "markdown",
   "metadata": {},
   "source": [
    "Честно, не понятно, как нужно делать *круговую* диаграмму успеваемости"
   ]
  },
  {
   "cell_type": "code",
   "execution_count": 10,
   "metadata": {},
   "outputs": [
    {
     "data": {
      "image/png": "[encoded data removed]",
      "text/plain": [
       "Plot with title \"Оценка по графам\""
      ]
     },
     "metadata": {},
     "output_type": "display_data"
    }
   ],
   "source": [
    "colours = c(\"white\", \"white\", \"black\", \"white\")\n",
    "\n",
    "par(mfrow=c(1,3))\n",
    "\n",
    "pie(input[,1], cex=1, radius=0.75, main=\"Оценка по введению\", col=colours)\n",
    "pie(input[,2], cex=1, radius=0.75, main=\"Оценка по логике\", col=colours)\n",
    "pie(input[,3], cex=1, radius=0.75, main=\"Оценка по графам\", col=colours)"
   ]
  },
  {
   "cell_type": "markdown",
   "metadata": {},
   "source": [
    "## 3"
   ]
  },
  {
   "cell_type": "code",
   "execution_count": 11,
   "metadata": {},
   "outputs": [],
   "source": [
    "expression_to_function <- function(expr, vars=c(\"x\")) {\n",
    "    expr <- as.expression(expr)\n",
    "    \n",
    "    vars_string <- \"\"\n",
    "    if (length(vars) == 0) {\n",
    "        vars_string <- \"\"\n",
    "    }\n",
    "    else if (length(vars) == 1) {\n",
    "        vars_string <- as.character(vars)\n",
    "    }\n",
    "    else {\n",
    "        for (var in vars) {\n",
    "            vars_string <- paste(vars_string, as.character(var), sep=\",\")\n",
    "        }\n",
    "        vars_string <- sub(\".\", \"\", vars_string)\n",
    "    }\n",
    "    \n",
    "    \n",
    "    return (eval(parse(text=paste(\"(function(\", vars_string, \") {\", as.character(expr), \"})\"))))\n",
    "}"
   ]
  },
  {
   "cell_type": "code",
   "execution_count": 12,
   "metadata": {},
   "outputs": [
    {
     "data": {
      "text/html": [
       "-14.8834"
      ],
      "text/latex": [
       "-14.8834"
      ],
      "text/markdown": [
       "-14.8834"
      ],
      "text/plain": [
       "[1] -14.8834"
      ]
     },
     "metadata": {},
     "output_type": "display_data"
    }
   ],
   "source": [
    "f <- function(x) {\n",
    "    (3*x^2 - 30*x + 74.417) / (x - 5)\n",
    "}\n",
    "f.expr = expression((3*x^2 - 30*x + 74.417) / (x - 5))\n",
    "f(0)"
   ]
  },
  {
   "cell_type": "code",
   "execution_count": 13,
   "metadata": {},
   "outputs": [
    {
     "data": {
      "text/html": [
       "5.44083253177626"
      ],
      "text/latex": [
       "5.44083253177626"
      ],
      "text/markdown": [
       "5.44083253177626"
      ],
      "text/plain": [
       "[1] 5.440833"
      ]
     },
     "metadata": {},
     "output_type": "display_data"
    }
   ],
   "source": [
    "uniroot(f, interval=c(-10, 10))$root"
   ]
  },
  {
   "cell_type": "code",
   "execution_count": 14,
   "metadata": {},
   "outputs": [
    {
     "data": {
      "text/plain": [
       "(3 * (2 * x) - 30)/(x - 5) - (3 * x^2 - 30 * x + 74.417)/(x - \n",
       "    5)^2"
      ]
     },
     "metadata": {},
     "output_type": "display_data"
    }
   ],
   "source": [
    "f.deriv <- D(f.expr, \"x\")\n",
    "f.deriv"
   ]
  },
  {
   "cell_type": "code",
   "execution_count": 15,
   "metadata": {},
   "outputs": [
    {
     "data": {
      "text/html": [
       "<pre class=language-r><code>function (x) \n",
       "{\n",
       "<span style=white-space:pre-wrap>    (3 * (2 * x) - 30)/(x - 5) - (3 * x^2 - 30 * x + 74.417)/(x - </span>\n",
       "<span style=white-space:pre-wrap>        5)^2</span>\n",
       "}</code></pre>"
      ],
      "text/latex": [
       "\\begin{minted}{r}\n",
       "function (x) \n",
       "\\{\n",
       "    (3 * (2 * x) - 30)/(x - 5) - (3 * x\\textasciicircum{}2 - 30 * x + 74.417)/(x - \n",
       "        5)\\textasciicircum{}2\n",
       "\\}\n",
       "\\end{minted}"
      ],
      "text/markdown": [
       "```r\n",
       "function (x) \n",
       "{\n",
       "    (3 * (2 * x) - 30)/(x - 5) - (3 * x^2 - 30 * x + 74.417)/(x - \n",
       "        5)^2\n",
       "}\n",
       "```"
      ],
      "text/plain": [
       "function (x) \n",
       "{\n",
       "    (3 * (2 * x) - 30)/(x - 5) - (3 * x^2 - 30 * x + 74.417)/(x - \n",
       "        5)^2\n",
       "}\n",
       "<environment: 0x000000004b71d730>"
      ]
     },
     "metadata": {},
     "output_type": "display_data"
    }
   ],
   "source": [
    "df <- expression_to_function(f.deriv)\n",
    "df"
   ]
  },
  {
   "cell_type": "code",
   "execution_count": 16,
   "metadata": {},
   "outputs": [
    {
     "data": {
      "image/png": "[encoded data removed]",
      "text/plain": [
       "Plot with title \"Основная функция\""
      ]
     },
     "metadata": {},
     "output_type": "display_data"
    }
   ],
   "source": [
    "x <- seq(-100, 100, 0.01)\n",
    "\n",
    "plot(x, f(x), type=\"l\", main=\"Основная функция\")"
   ]
  },
  {
   "cell_type": "code",
   "execution_count": 17,
   "metadata": {},
   "outputs": [
    {
     "data": {
      "image/png": "[encoded data removed]",
      "text/plain": [
       "Plot with title \"Производная функции\""
      ]
     },
     "metadata": {},
     "output_type": "display_data"
    }
   ],
   "source": [
    "x <- seq(-10, 10, 0.1)\n",
    "\n",
    "plot(x, df(x), type=\"l\", main=\"Производная функции\")"
   ]
  },
  {
   "cell_type": "markdown",
   "metadata": {},
   "source": [
    "## 4"
   ]
  },
  {
   "cell_type": "code",
   "execution_count": 18,
   "metadata": {},
   "outputs": [
    {
     "data": {
      "text/html": [
       "-205.5"
      ],
      "text/latex": [
       "-205.5"
      ],
      "text/markdown": [
       "-205.5"
      ],
      "text/plain": [
       "[1] -205.5"
      ]
     },
     "metadata": {},
     "output_type": "display_data"
    }
   ],
   "source": [
    "f <- function(x) {\n",
    "    x^3 - 18*x^2 + 106.25*x - 205.5\n",
    "}\n",
    "f.expr <- expression(x^3 - 18*x^2 + 106.25*x - 205.5)\n",
    "f(0)"
   ]
  },
  {
   "cell_type": "code",
   "execution_count": 19,
   "metadata": {},
   "outputs": [
    {
     "data": {
      "text/html": [
       "7.322898019306"
      ],
      "text/latex": [
       "7.322898019306"
      ],
      "text/markdown": [
       "7.322898019306"
      ],
      "text/plain": [
       "[1] 7.322898"
      ]
     },
     "metadata": {},
     "output_type": "display_data"
    }
   ],
   "source": [
    "uniroot(f, interval=c(-100, 100))$root"
   ]
  },
  {
   "cell_type": "code",
   "execution_count": 20,
   "metadata": {},
   "outputs": [
    {
     "data": {
      "text/plain": [
       "3 * x^2 - 18 * (2 * x) + 106.25"
      ]
     },
     "metadata": {},
     "output_type": "display_data"
    }
   ],
   "source": [
    "d.deriv <- D(f.expr, \"x\")\n",
    "d.deriv"
   ]
  },
  {
   "cell_type": "code",
   "execution_count": 21,
   "metadata": {},
   "outputs": [
    {
     "data": {
      "text/html": [
       "106.25"
      ],
      "text/latex": [
       "106.25"
      ],
      "text/markdown": [
       "106.25"
      ],
      "text/plain": [
       "[1] 106.25"
      ]
     },
     "metadata": {},
     "output_type": "display_data"
    }
   ],
   "source": [
    "df <- expression_to_function(d.deriv)\n",
    "df(0)"
   ]
  },
  {
   "cell_type": "code",
   "execution_count": 22,
   "metadata": {},
   "outputs": [
    {
     "data": {
      "text/html": [
       "5.23623907178357"
      ],
      "text/latex": [
       "5.23623907178357"
      ],
      "text/markdown": [
       "5.23623907178357"
      ],
      "text/plain": [
       "[1] 5.236239"
      ]
     },
     "metadata": {},
     "output_type": "display_data"
    }
   ],
   "source": [
    "uniroot(df, interval=c(-10, 6))$root"
   ]
  },
  {
   "cell_type": "code",
   "execution_count": 23,
   "metadata": {},
   "outputs": [
    {
     "data": {
      "image/png": "[encoded data removed]",
      "text/plain": [
       "Plot with title \"Основная функция\""
      ]
     },
     "metadata": {},
     "output_type": "display_data"
    }
   ],
   "source": [
    "x <- seq(-100, 100, 0.01)\n",
    "\n",
    "plot(x, f(x), type=\"l\", main=\"Основная функция\")"
   ]
  },
  {
   "cell_type": "code",
   "execution_count": 24,
   "metadata": {},
   "outputs": [
    {
     "data": {
      "image/png": "[encoded data removed]",
      "text/plain": [
       "Plot with title \"Производная\""
      ]
     },
     "metadata": {},
     "output_type": "display_data"
    }
   ],
   "source": [
    "plot(x, df(x), type=\"l\", main=\"Производная\")"
   ]
  },
  {
   "cell_type": "markdown",
   "metadata": {},
   "source": [
    "## 5"
   ]
  },
  {
   "cell_type": "code",
   "execution_count": 25,
   "metadata": {},
   "outputs": [],
   "source": [
    "f <- function (x, y, a=1, b=1) {\n",
    "    x^2 / a^2 + y^2 / b^2 - 1\n",
    "}\n",
    "# wrong!!!\n",
    "f.expr = expression(x^2 / a^2 + y^2 / b^2 - 1)"
   ]
  },
  {
   "cell_type": "code",
   "execution_count": 1,
   "metadata": {},
   "outputs": [
    {
     "data": {
      "image/png": "[encoded data removed]",
      "text/plain": [
       "plot without title"
      ]
     },
     "metadata": {},
     "output_type": "display_data"
    }
   ],
   "source": [
    "x <- seq(-5, 5, 0.1)\n",
    "y <- x\n",
    "z <- outer(x, y, function(x, y) x^2 + y^2 - 1)\n",
    "persp(x,y,z)"
   ]
  },
  {
   "cell_type": "code",
   "execution_count": null,
   "metadata": {},
   "outputs": [],
   "source": []
  }
 ],
 "metadata": {
  "kernelspec": {
   "display_name": "R",
   "language": "R",
   "name": "ir"
  },
  "language_info": {
   "codemirror_mode": "r",
   "file_extension": ".r",
   "mimetype": "text/x-r-source",
   "name": "R",
   "pygments_lexer": "r",
   "version": "3.6.1"
  }
 },
 "nbformat": 4,
 "nbformat_minor": 4
}
