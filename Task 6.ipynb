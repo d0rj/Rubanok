{
 "cells": [
  {
   "cell_type": "markdown",
   "metadata": {},
   "source": [
    "## 0"
   ]
  },
  {
   "cell_type": "markdown",
   "metadata": {},
   "source": [
    "Объявление данных для работы, небольшие изменения по сравнению с тем, как это сделано в методичке"
   ]
  },
  {
   "cell_type": "code",
   "execution_count": 1,
   "metadata": {},
   "outputs": [],
   "source": [
    "id <- 1:3\n",
    "country <- c(\"Flatland\", \"Wonderland\", \"Sphereland\")\n",
    "craziness <- c(20, 15, 18)\n",
    "region_type <- c(\"A\", \"B\", \"A\")\n",
    "author <- c(\"Abbot\", \"Carroll\", \"Burger\")\n",
    "size <- c(10, 100, 30)\n",
    "\n",
    "df <- data.frame(id, country, craziness, region_type, author, size)"
   ]
  },
  {
   "cell_type": "code",
   "execution_count": 2,
   "metadata": {},
   "outputs": [
    {
     "data": {
      "text/html": [
       "<table>\n",
       "<thead><tr><th scope=col>id</th><th scope=col>country</th><th scope=col>craziness</th><th scope=col>region_type</th><th scope=col>author</th><th scope=col>size</th></tr></thead>\n",
       "<tbody>\n",
       "\t<tr><td>1         </td><td>Flatland  </td><td>20        </td><td>A         </td><td>Abbot     </td><td> 10       </td></tr>\n",
       "\t<tr><td>2         </td><td>Wonderland</td><td>15        </td><td>B         </td><td>Carroll   </td><td>100       </td></tr>\n",
       "\t<tr><td>3         </td><td>Sphereland</td><td>18        </td><td>A         </td><td>Burger    </td><td> 30       </td></tr>\n",
       "</tbody>\n",
       "</table>\n"
      ],
      "text/latex": [
       "\\begin{tabular}{r|llllll}\n",
       " id & country & craziness & region\\_type & author & size\\\\\n",
       "\\hline\n",
       "\t 1          & Flatland   & 20         & A          & Abbot      &  10       \\\\\n",
       "\t 2          & Wonderland & 15         & B          & Carroll    & 100       \\\\\n",
       "\t 3          & Sphereland & 18         & A          & Burger     &  30       \\\\\n",
       "\\end{tabular}\n"
      ],
      "text/markdown": [
       "\n",
       "| id | country | craziness | region_type | author | size |\n",
       "|---|---|---|---|---|---|\n",
       "| 1          | Flatland   | 20         | A          | Abbot      |  10        |\n",
       "| 2          | Wonderland | 15         | B          | Carroll    | 100        |\n",
       "| 3          | Sphereland | 18         | A          | Burger     |  30        |\n",
       "\n"
      ],
      "text/plain": [
       "  id country    craziness region_type author  size\n",
       "1 1  Flatland   20        A           Abbot    10 \n",
       "2 2  Wonderland 15        B           Carroll 100 \n",
       "3 3  Sphereland 18        A           Burger   30 "
      ]
     },
     "metadata": {},
     "output_type": "display_data"
    }
   ],
   "source": [
    "df"
   ]
  },
  {
   "cell_type": "code",
   "execution_count": 3,
   "metadata": {},
   "outputs": [
    {
     "data": {
      "text/html": [
       "<dl class=dl-horizontal>\n",
       "\t<dt>id</dt>\n",
       "\t\t<dd>'integer'</dd>\n",
       "\t<dt>country</dt>\n",
       "\t\t<dd>'factor'</dd>\n",
       "\t<dt>craziness</dt>\n",
       "\t\t<dd>'numeric'</dd>\n",
       "\t<dt>region_type</dt>\n",
       "\t\t<dd>'factor'</dd>\n",
       "\t<dt>author</dt>\n",
       "\t\t<dd>'factor'</dd>\n",
       "\t<dt>size</dt>\n",
       "\t\t<dd>'numeric'</dd>\n",
       "</dl>\n"
      ],
      "text/latex": [
       "\\begin{description*}\n",
       "\\item[id] 'integer'\n",
       "\\item[country] 'factor'\n",
       "\\item[craziness] 'numeric'\n",
       "\\item[region\\textbackslash{}\\_type] 'factor'\n",
       "\\item[author] 'factor'\n",
       "\\item[size] 'numeric'\n",
       "\\end{description*}\n"
      ],
      "text/markdown": [
       "id\n",
       ":   'integer'country\n",
       ":   'factor'craziness\n",
       ":   'numeric'region_type\n",
       ":   'factor'author\n",
       ":   'factor'size\n",
       ":   'numeric'\n",
       "\n"
      ],
      "text/plain": [
       "         id     country   craziness region_type      author        size \n",
       "  \"integer\"    \"factor\"   \"numeric\"    \"factor\"    \"factor\"   \"numeric\" "
      ]
     },
     "metadata": {},
     "output_type": "display_data"
    }
   ],
   "source": [
    "sapply(df, class)"
   ]
  },
  {
   "cell_type": "markdown",
   "metadata": {},
   "source": [
    "## 1"
   ]
  },
  {
   "cell_type": "markdown",
   "metadata": {},
   "source": [
    "Описывает, сколько переменных указанных типов в dataframe'е"
   ]
  },
  {
   "cell_type": "code",
   "execution_count": 4,
   "metadata": {},
   "outputs": [],
   "source": [
    "first <- function(df, describeVector=c(\"numeric\", \"factor\", \"character\")) {\n",
    "    #classes <- sapply(df, class)\n",
    "    classes <- c()\n",
    "    for (i in 1:length(df[1,])) {\n",
    "        classes <- c(classes, class(df[,i]))\n",
    "    }\n",
    "    # ;)\n",
    "    classes <- table(classes)\n",
    "    \n",
    "    naToZero <- function(x) if (is.na(x)) 0 else x\n",
    "    for (name in describeVector) {\n",
    "        classes[name] <- naToZero(classes[name])\n",
    "    }\n",
    "    \n",
    "    return (c(classes[describeVector]))\n",
    "}"
   ]
  },
  {
   "cell_type": "code",
   "execution_count": 5,
   "metadata": {},
   "outputs": [
    {
     "data": {
      "text/html": [
       "<dl class=dl-horizontal>\n",
       "\t<dt>numeric</dt>\n",
       "\t\t<dd>2</dd>\n",
       "\t<dt>factor</dt>\n",
       "\t\t<dd>3</dd>\n",
       "\t<dt>character</dt>\n",
       "\t\t<dd>0</dd>\n",
       "</dl>\n"
      ],
      "text/latex": [
       "\\begin{description*}\n",
       "\\item[numeric] 2\n",
       "\\item[factor] 3\n",
       "\\item[character] 0\n",
       "\\end{description*}\n"
      ],
      "text/markdown": [
       "numeric\n",
       ":   2factor\n",
       ":   3character\n",
       ":   0\n",
       "\n"
      ],
      "text/plain": [
       "  numeric    factor character \n",
       "        2         3         0 "
      ]
     },
     "metadata": {},
     "output_type": "display_data"
    }
   ],
   "source": [
    "first(df)"
   ]
  },
  {
   "cell_type": "markdown",
   "metadata": {},
   "source": [
    "## 2"
   ]
  },
  {
   "cell_type": "markdown",
   "metadata": {},
   "source": [
    "А эта выбирает только столбцы указанного типа"
   ]
  },
  {
   "cell_type": "code",
   "execution_count": 6,
   "metadata": {},
   "outputs": [],
   "source": [
    "second <- function(df, choose='numeric') {\n",
    "    result <- data.frame(temp = rep(c(0), length(df[1,])))\n",
    "    for (i in 1:length(df[1,])) {\n",
    "        if (class(df[,i]) == choose) {\n",
    "            result[colnames(df[i])] <- df[i]\n",
    "        }\n",
    "    }\n",
    "    \n",
    "    result <- result[-1]\n",
    "    \n",
    "    return (result)\n",
    "}"
   ]
  },
  {
   "cell_type": "code",
   "execution_count": 7,
   "metadata": {},
   "outputs": [
    {
     "data": {
      "text/html": [
       "<table>\n",
       "<thead><tr><th scope=col>craziness</th><th scope=col>size</th></tr></thead>\n",
       "<tbody>\n",
       "\t<tr><td>20 </td><td> 10</td></tr>\n",
       "\t<tr><td>15 </td><td>100</td></tr>\n",
       "\t<tr><td>18 </td><td> 30</td></tr>\n",
       "\t<tr><td>20 </td><td> 10</td></tr>\n",
       "\t<tr><td>15 </td><td>100</td></tr>\n",
       "\t<tr><td>18 </td><td> 30</td></tr>\n",
       "</tbody>\n",
       "</table>\n"
      ],
      "text/latex": [
       "\\begin{tabular}{r|ll}\n",
       " craziness & size\\\\\n",
       "\\hline\n",
       "\t 20  &  10\\\\\n",
       "\t 15  & 100\\\\\n",
       "\t 18  &  30\\\\\n",
       "\t 20  &  10\\\\\n",
       "\t 15  & 100\\\\\n",
       "\t 18  &  30\\\\\n",
       "\\end{tabular}\n"
      ],
      "text/markdown": [
       "\n",
       "| craziness | size |\n",
       "|---|---|\n",
       "| 20  |  10 |\n",
       "| 15  | 100 |\n",
       "| 18  |  30 |\n",
       "| 20  |  10 |\n",
       "| 15  | 100 |\n",
       "| 18  |  30 |\n",
       "\n"
      ],
      "text/plain": [
       "  craziness size\n",
       "1 20         10 \n",
       "2 15        100 \n",
       "3 18         30 \n",
       "4 20         10 \n",
       "5 15        100 \n",
       "6 18         30 "
      ]
     },
     "metadata": {},
     "output_type": "display_data"
    }
   ],
   "source": [
    "second(df)"
   ]
  },
  {
   "cell_type": "markdown",
   "metadata": {},
   "source": [
    "## 4"
   ]
  },
  {
   "cell_type": "code",
   "execution_count": 8,
   "metadata": {},
   "outputs": [],
   "source": [
    "four <- function(vector) {\n",
    "    if (class(vector) == \"numeric\") {\n",
    "        return (median(vector))\n",
    "    }\n",
    "    else {\n",
    "        print(\"Vector is not numeric, cannot compute the median\")\n",
    "        return (NA)\n",
    "    }\n",
    "}"
   ]
  },
  {
   "cell_type": "code",
   "execution_count": 9,
   "metadata": {},
   "outputs": [
    {
     "data": {
      "text/html": [
       "3.5"
      ],
      "text/latex": [
       "3.5"
      ],
      "text/markdown": [
       "3.5"
      ],
      "text/plain": [
       "[1] 3.5"
      ]
     },
     "metadata": {},
     "output_type": "display_data"
    }
   ],
   "source": [
    "four(c(1, 2, 3, 4, 5, 6))"
   ]
  },
  {
   "cell_type": "code",
   "execution_count": 10,
   "metadata": {},
   "outputs": [
    {
     "name": "stdout",
     "output_type": "stream",
     "text": [
      "[1] \"Vector is not numeric, cannot compute the median\"\n"
     ]
    },
    {
     "data": {
      "text/html": [
       "&lt;NA&gt;"
      ],
      "text/latex": [
       "<NA>"
      ],
      "text/markdown": [
       "&lt;NA&gt;"
      ],
      "text/plain": [
       "[1] NA"
      ]
     },
     "metadata": {},
     "output_type": "display_data"
    }
   ],
   "source": [
    "four(\"Hello\")"
   ]
  },
  {
   "cell_type": "markdown",
   "metadata": {},
   "source": [
    "# Анализ временных рядов"
   ]
  },
  {
   "cell_type": "code",
   "execution_count": 11,
   "metadata": {},
   "outputs": [
    {
     "name": "stderr",
     "output_type": "stream",
     "text": [
      "Warning message:\n",
      "\"package 'quantmod' was built under R version 3.6.3\"Loading required package: xts\n",
      "Warning message:\n",
      "\"package 'xts' was built under R version 3.6.3\"Loading required package: zoo\n",
      "Warning message:\n",
      "\"package 'zoo' was built under R version 3.6.3\"\n",
      "Attaching package: 'zoo'\n",
      "\n",
      "The following objects are masked from 'package:base':\n",
      "\n",
      "    as.Date, as.Date.numeric\n",
      "\n",
      "\n",
      "Attaching package: 'xts'\n",
      "\n",
      "The following object is masked _by_ '.GlobalEnv':\n",
      "\n",
      "    first\n",
      "\n",
      "Loading required package: TTR\n",
      "Warning message:\n",
      "\"package 'TTR' was built under R version 3.6.3\"Registered S3 method overwritten by 'quantmod':\n",
      "  method            from\n",
      "  as.zoo.data.frame zoo \n"
     ]
    }
   ],
   "source": [
    "if (\"quantmod\" %in% rownames(installed.packages()) == FALSE) {\n",
    "    install.packages(\"quantmod\") \n",
    "}\n",
    "library(quantmod)"
   ]
  },
  {
   "cell_type": "code",
   "execution_count": 12,
   "metadata": {},
   "outputs": [
    {
     "name": "stderr",
     "output_type": "stream",
     "text": [
      "Warning message:\n",
      "\"package 'stringr' was built under R version 3.6.3\""
     ]
    }
   ],
   "source": [
    "if (\"stringr\" %in% rownames(installed.packages()) == FALSE) {\n",
    "    install.packages(\"stringr\") \n",
    "}\n",
    "library(stringr)"
   ]
  },
  {
   "cell_type": "code",
   "execution_count": 13,
   "metadata": {},
   "outputs": [],
   "source": [
    "downloadable_stocks <- c(\"ATVI\", \"^IXIC\")"
   ]
  },
  {
   "cell_type": "code",
   "execution_count": 14,
   "metadata": {},
   "outputs": [
    {
     "name": "stderr",
     "output_type": "stream",
     "text": [
      "'getSymbols' currently uses auto.assign=TRUE by default, but will\n",
      "use auto.assign=FALSE in 0.5-0. You will still be able to use\n",
      "'loadSymbols' to automatically load data. getOption(\"getSymbols.env\")\n",
      "and getOption(\"getSymbols.auto.assign\") will still be checked for\n",
      "alternate defaults.\n",
      "\n",
      "This message is shown once per session and may be disabled by setting \n",
      "options(\"getSymbols.warning4.0\"=FALSE). See ?getSymbols for details.\n",
      "\n"
     ]
    },
    {
     "data": {
      "text/html": [
       "<ol class=list-inline>\n",
       "\t<li>'ATVI'</li>\n",
       "\t<li>'^IXIC'</li>\n",
       "</ol>\n"
      ],
      "text/latex": [
       "\\begin{enumerate*}\n",
       "\\item 'ATVI'\n",
       "\\item '\\textasciicircum{}IXIC'\n",
       "\\end{enumerate*}\n"
      ],
      "text/markdown": [
       "1. 'ATVI'\n",
       "2. '^IXIC'\n",
       "\n",
       "\n"
      ],
      "text/plain": [
       "[1] \"ATVI\"  \"^IXIC\""
      ]
     },
     "metadata": {},
     "output_type": "display_data"
    }
   ],
   "source": [
    "quantmod::getSymbols(Symbols = downloadable_stocks, src = \"yahoo\", from = as.Date.character(\"1900-01-01\"))"
   ]
  },
  {
   "cell_type": "code",
   "execution_count": 15,
   "metadata": {},
   "outputs": [],
   "source": [
    "df <- data.frame(get(downloadable_stocks[1]))"
   ]
  },
  {
   "cell_type": "code",
   "execution_count": 16,
   "metadata": {},
   "outputs": [],
   "source": [
    "downloadable_stocks <- stringr::str_remove(downloadable_stocks, \"[:punct:\\\\^]\")"
   ]
  },
  {
   "cell_type": "code",
   "execution_count": 17,
   "metadata": {},
   "outputs": [],
   "source": [
    "rm(list = downloadable_stocks)"
   ]
  },
  {
   "cell_type": "code",
   "execution_count": 18,
   "metadata": {},
   "outputs": [
    {
     "data": {
      "text/html": [
       "<table>\n",
       "<thead><tr><th></th><th scope=col>ATVI.Open</th><th scope=col>ATVI.High</th><th scope=col>ATVI.Low</th><th scope=col>ATVI.Close</th><th scope=col>ATVI.Volume</th><th scope=col>ATVI.Adjusted</th></tr></thead>\n",
       "<tbody>\n",
       "\t<tr><th scope=row>1993-10-25</th><td>1.250000</td><td>1.250000</td><td>0.937500</td><td>0.937500</td><td> 18000  </td><td>0.840151</td></tr>\n",
       "\t<tr><th scope=row>1993-10-26</th><td>1.229167</td><td>1.229167</td><td>0.854167</td><td>0.864583</td><td>189600  </td><td>0.774806</td></tr>\n",
       "\t<tr><th scope=row>1993-10-27</th><td>0.864583</td><td>0.864583</td><td>0.864583</td><td>0.864583</td><td>     0  </td><td>0.774806</td></tr>\n",
       "\t<tr><th scope=row>1993-10-28</th><td>0.708333</td><td>0.833333</td><td>0.583333</td><td>0.822917</td><td> 30000  </td><td>0.737466</td></tr>\n",
       "\t<tr><th scope=row>1993-10-29</th><td>0.875000</td><td>0.875000</td><td>0.833333</td><td>0.833333</td><td>172800  </td><td>0.746801</td></tr>\n",
       "\t<tr><th scope=row>1993-11-01</th><td>0.833333</td><td>0.875000</td><td>0.833333</td><td>0.875000</td><td> 76800  </td><td>0.784141</td></tr>\n",
       "</tbody>\n",
       "</table>\n"
      ],
      "text/latex": [
       "\\begin{tabular}{r|llllll}\n",
       "  & ATVI.Open & ATVI.High & ATVI.Low & ATVI.Close & ATVI.Volume & ATVI.Adjusted\\\\\n",
       "\\hline\n",
       "\t1993-10-25 & 1.250000 & 1.250000 & 0.937500 & 0.937500 &  18000   & 0.840151\\\\\n",
       "\t1993-10-26 & 1.229167 & 1.229167 & 0.854167 & 0.864583 & 189600   & 0.774806\\\\\n",
       "\t1993-10-27 & 0.864583 & 0.864583 & 0.864583 & 0.864583 &      0   & 0.774806\\\\\n",
       "\t1993-10-28 & 0.708333 & 0.833333 & 0.583333 & 0.822917 &  30000   & 0.737466\\\\\n",
       "\t1993-10-29 & 0.875000 & 0.875000 & 0.833333 & 0.833333 & 172800   & 0.746801\\\\\n",
       "\t1993-11-01 & 0.833333 & 0.875000 & 0.833333 & 0.875000 &  76800   & 0.784141\\\\\n",
       "\\end{tabular}\n"
      ],
      "text/markdown": [
       "\n",
       "| <!--/--> | ATVI.Open | ATVI.High | ATVI.Low | ATVI.Close | ATVI.Volume | ATVI.Adjusted |\n",
       "|---|---|---|---|---|---|---|\n",
       "| 1993-10-25 | 1.250000 | 1.250000 | 0.937500 | 0.937500 |  18000   | 0.840151 |\n",
       "| 1993-10-26 | 1.229167 | 1.229167 | 0.854167 | 0.864583 | 189600   | 0.774806 |\n",
       "| 1993-10-27 | 0.864583 | 0.864583 | 0.864583 | 0.864583 |      0   | 0.774806 |\n",
       "| 1993-10-28 | 0.708333 | 0.833333 | 0.583333 | 0.822917 |  30000   | 0.737466 |\n",
       "| 1993-10-29 | 0.875000 | 0.875000 | 0.833333 | 0.833333 | 172800   | 0.746801 |\n",
       "| 1993-11-01 | 0.833333 | 0.875000 | 0.833333 | 0.875000 |  76800   | 0.784141 |\n",
       "\n"
      ],
      "text/plain": [
       "           ATVI.Open ATVI.High ATVI.Low ATVI.Close ATVI.Volume ATVI.Adjusted\n",
       "1993-10-25 1.250000  1.250000  0.937500 0.937500    18000      0.840151     \n",
       "1993-10-26 1.229167  1.229167  0.854167 0.864583   189600      0.774806     \n",
       "1993-10-27 0.864583  0.864583  0.864583 0.864583        0      0.774806     \n",
       "1993-10-28 0.708333  0.833333  0.583333 0.822917    30000      0.737466     \n",
       "1993-10-29 0.875000  0.875000  0.833333 0.833333   172800      0.746801     \n",
       "1993-11-01 0.833333  0.875000  0.833333 0.875000    76800      0.784141     "
      ]
     },
     "metadata": {},
     "output_type": "display_data"
    }
   ],
   "source": [
    "head(df)"
   ]
  },
  {
   "cell_type": "markdown",
   "metadata": {},
   "source": [
    "## 2"
   ]
  },
  {
   "cell_type": "markdown",
   "metadata": {},
   "source": [
    "Реализация пропорций:"
   ]
  },
  {
   "cell_type": "code",
   "execution_count": 19,
   "metadata": {},
   "outputs": [],
   "source": [
    "proportion <- function(x, dt, func) {\n",
    "    stopifnot(is.vector(x) && class(x) == \"numeric\")\n",
    "    stopifnot(is.numeric(dt) & dt %% 1 == 0 & dt > 0)\n",
    "    stopifnot(2*dt < length(x))\n",
    "    stopifnot(is.function(func))\n",
    "    \n",
    "    min_elem <- min(x)\n",
    "    x <- sapply(x, function(x) x + min_elem + 1)\n",
    "    \n",
    "    y <- rep(c(0), length(x) - 2*dt)\n",
    "    for (i in (1 + dt):(length(x) - dt)) {\n",
    "        y[i - dt] <- func(x[i - dt], x[i], x[i + dt])\n",
    "    }\n",
    "    \n",
    "    return (y)\n",
    "}"
   ]
  },
  {
   "cell_type": "code",
   "execution_count": 20,
   "metadata": {},
   "outputs": [],
   "source": [
    "arifmProportion <- function(x, dt=1) proportion(x, dt, function(prev, current, nex) log((prev + nex) / (2*current)))"
   ]
  },
  {
   "cell_type": "code",
   "execution_count": 21,
   "metadata": {},
   "outputs": [
    {
     "data": {
      "text/html": [
       "<ol class=list-inline>\n",
       "\t<li>0.287682072451781</li>\n",
       "\t<li>-0.538996500732687</li>\n",
       "\t<li>0.182321556793955</li>\n",
       "</ol>\n"
      ],
      "text/latex": [
       "\\begin{enumerate*}\n",
       "\\item 0.287682072451781\n",
       "\\item -0.538996500732687\n",
       "\\item 0.182321556793955\n",
       "\\end{enumerate*}\n"
      ],
      "text/markdown": [
       "1. 0.287682072451781\n",
       "2. -0.538996500732687\n",
       "3. 0.182321556793955\n",
       "\n",
       "\n"
      ],
      "text/plain": [
       "[1]  0.2876821 -0.5389965  0.1823216"
      ]
     },
     "metadata": {},
     "output_type": "display_data"
    }
   ],
   "source": [
    "arifmProportion(c(1, 2, 1, 4, 3, 1, 7), 2)"
   ]
  },
  {
   "cell_type": "code",
   "execution_count": 22,
   "metadata": {},
   "outputs": [],
   "source": [
    "geomProportion <- function(x, dt=1) proportion(x, dt, function(prev, current, nex) log(prev * nex /  current^2))"
   ]
  },
  {
   "cell_type": "code",
   "execution_count": 23,
   "metadata": {},
   "outputs": [
    {
     "data": {
      "text/html": [
       "<ol class=list-inline>\n",
       "\t<li>0.510825623765991</li>\n",
       "\t<li>-1.09861228866811</li>\n",
       "\t<li>0.0769610411361284</li>\n",
       "</ol>\n"
      ],
      "text/latex": [
       "\\begin{enumerate*}\n",
       "\\item 0.510825623765991\n",
       "\\item -1.09861228866811\n",
       "\\item 0.0769610411361284\n",
       "\\end{enumerate*}\n"
      ],
      "text/markdown": [
       "1. 0.510825623765991\n",
       "2. -1.09861228866811\n",
       "3. 0.0769610411361284\n",
       "\n",
       "\n"
      ],
      "text/plain": [
       "[1]  0.51082562 -1.09861229  0.07696104"
      ]
     },
     "metadata": {},
     "output_type": "display_data"
    }
   ],
   "source": [
    "geomProportion(c(1, 2, 1, 4, 3, 1, 7), 2)"
   ]
  },
  {
   "cell_type": "code",
   "execution_count": 24,
   "metadata": {},
   "outputs": [],
   "source": [
    "garmProportion <- function(x, dt=1) proportion(x, dt, function(prev, current, nex) log(2 * prev * nex / (current * (prev + nex))))"
   ]
  },
  {
   "cell_type": "code",
   "execution_count": 25,
   "metadata": {},
   "outputs": [
    {
     "data": {
      "text/html": [
       "<ol class=list-inline>\n",
       "\t<li>0.22314355131421</li>\n",
       "\t<li>-0.559615787935423</li>\n",
       "\t<li>-0.105360515657826</li>\n",
       "</ol>\n"
      ],
      "text/latex": [
       "\\begin{enumerate*}\n",
       "\\item 0.22314355131421\n",
       "\\item -0.559615787935423\n",
       "\\item -0.105360515657826\n",
       "\\end{enumerate*}\n"
      ],
      "text/markdown": [
       "1. 0.22314355131421\n",
       "2. -0.559615787935423\n",
       "3. -0.105360515657826\n",
       "\n",
       "\n"
      ],
      "text/plain": [
       "[1]  0.2231436 -0.5596158 -0.1053605"
      ]
     },
     "metadata": {},
     "output_type": "display_data"
    }
   ],
   "source": [
    "garmProportion(c(1, 2, 1, 4, 3, 1, 7), 2)"
   ]
  },
  {
   "cell_type": "markdown",
   "metadata": {},
   "source": [
    "**Сама функция *out_of_trend***"
   ]
  },
  {
   "cell_type": "code",
   "execution_count": 26,
   "metadata": {},
   "outputs": [],
   "source": [
    "out_of_trend <- function(x, dt=1, method=\"Arifm\") {\n",
    "    stopifnot(method == \"Arifm\" || method == \"Geom\" || method == \"Garm\")\n",
    "    \n",
    "    return (switch(method,\n",
    "                  \"Arifm\"=arifmProportion(x, dt),\n",
    "                  \"Geom\"=geomProportion(x, dt),\n",
    "                  \"Garm\"=garmProportion(x, dt),\n",
    "                  arifmProportion(x, dt)))\n",
    "}"
   ]
  },
  {
   "cell_type": "code",
   "execution_count": 27,
   "metadata": {},
   "outputs": [
    {
     "data": {
      "text/html": [
       "<ol class=list-inline>\n",
       "\t<li>TRUE</li>\n",
       "\t<li>TRUE</li>\n",
       "\t<li>TRUE</li>\n",
       "</ol>\n"
      ],
      "text/latex": [
       "\\begin{enumerate*}\n",
       "\\item TRUE\n",
       "\\item TRUE\n",
       "\\item TRUE\n",
       "\\end{enumerate*}\n"
      ],
      "text/markdown": [
       "1. TRUE\n",
       "2. TRUE\n",
       "3. TRUE\n",
       "\n",
       "\n"
      ],
      "text/plain": [
       "[1] TRUE TRUE TRUE"
      ]
     },
     "metadata": {},
     "output_type": "display_data"
    }
   ],
   "source": [
    "out_of_trend(c(1, 2, 1, 4, 3, 1, 7), 2) == arifmProportion(c(1, 2, 1, 4, 3, 1, 7), 2)"
   ]
  },
  {
   "cell_type": "code",
   "execution_count": 28,
   "metadata": {},
   "outputs": [
    {
     "data": {
      "text/html": [
       "<ol class=list-inline>\n",
       "\t<li>TRUE</li>\n",
       "\t<li>TRUE</li>\n",
       "\t<li>TRUE</li>\n",
       "</ol>\n"
      ],
      "text/latex": [
       "\\begin{enumerate*}\n",
       "\\item TRUE\n",
       "\\item TRUE\n",
       "\\item TRUE\n",
       "\\end{enumerate*}\n"
      ],
      "text/markdown": [
       "1. TRUE\n",
       "2. TRUE\n",
       "3. TRUE\n",
       "\n",
       "\n"
      ],
      "text/plain": [
       "[1] TRUE TRUE TRUE"
      ]
     },
     "metadata": {},
     "output_type": "display_data"
    }
   ],
   "source": [
    "out_of_trend(c(1, 2, 1, 4, 3, 1, 7), 2, \"Geom\") == geomProportion(c(1, 2, 1, 4, 3, 1, 7), 2)"
   ]
  },
  {
   "cell_type": "code",
   "execution_count": 29,
   "metadata": {},
   "outputs": [
    {
     "data": {
      "text/html": [
       "<ol class=list-inline>\n",
       "\t<li>TRUE</li>\n",
       "\t<li>TRUE</li>\n",
       "\t<li>TRUE</li>\n",
       "</ol>\n"
      ],
      "text/latex": [
       "\\begin{enumerate*}\n",
       "\\item TRUE\n",
       "\\item TRUE\n",
       "\\item TRUE\n",
       "\\end{enumerate*}\n"
      ],
      "text/markdown": [
       "1. TRUE\n",
       "2. TRUE\n",
       "3. TRUE\n",
       "\n",
       "\n"
      ],
      "text/plain": [
       "[1] TRUE TRUE TRUE"
      ]
     },
     "metadata": {},
     "output_type": "display_data"
    }
   ],
   "source": [
    "out_of_trend(c(1, 2, 1, 4, 3, 1, 7), 2, \"Garm\") == garmProportion(c(1, 2, 1, 4, 3, 1, 7), 2)"
   ]
  },
  {
   "cell_type": "markdown",
   "metadata": {},
   "source": [
    "## 3"
   ]
  },
  {
   "cell_type": "code",
   "execution_count": 30,
   "metadata": {},
   "outputs": [],
   "source": [
    "t = seq(0, 10, 0.1)"
   ]
  },
  {
   "cell_type": "code",
   "execution_count": 31,
   "metadata": {},
   "outputs": [],
   "source": [
    "x = 2*t + 3 + sin(2*t)"
   ]
  },
  {
   "cell_type": "code",
   "execution_count": 32,
   "metadata": {},
   "outputs": [
    {
     "data": {
      "text/html": [
       "13.0337246577643"
      ],
      "text/latex": [
       "13.0337246577643"
      ],
      "text/markdown": [
       "13.0337246577643"
      ],
      "text/plain": [
       "[1] 13.03372"
      ]
     },
     "metadata": {},
     "output_type": "display_data"
    }
   ],
   "source": [
    "mean(x)"
   ]
  },
  {
   "cell_type": "code",
   "execution_count": 33,
   "metadata": {},
   "outputs": [
    {
     "data": {
      "text/html": [
       "-6.82149511208206e-05"
      ],
      "text/latex": [
       "-6.82149511208206e-05"
      ],
      "text/markdown": [
       "-6.82149511208206e-05"
      ],
      "text/plain": [
       "[1] -6.821495e-05"
      ]
     },
     "metadata": {},
     "output_type": "display_data"
    }
   ],
   "source": [
    "xn <- out_of_trend(x, method=\"Arifm\")\n",
    "mean(xn)"
   ]
  },
  {
   "cell_type": "code",
   "execution_count": 34,
   "metadata": {},
   "outputs": [
    {
     "data": {
      "text/html": [
       "-0.000450611327628541"
      ],
      "text/latex": [
       "-0.000450611327628541"
      ],
      "text/markdown": [
       "-0.000450611327628541"
      ],
      "text/plain": [
       "[1] -0.0004506113"
      ]
     },
     "metadata": {},
     "output_type": "display_data"
    }
   ],
   "source": [
    "xn <- out_of_trend(x, method=\"Geom\")\n",
    "mean(xn)"
   ]
  },
  {
   "cell_type": "code",
   "execution_count": 35,
   "metadata": {},
   "outputs": [
    {
     "data": {
      "text/html": [
       "-0.000382396376507737"
      ],
      "text/latex": [
       "-0.000382396376507737"
      ],
      "text/markdown": [
       "-0.000382396376507737"
      ],
      "text/plain": [
       "[1] -0.0003823964"
      ]
     },
     "metadata": {},
     "output_type": "display_data"
    }
   ],
   "source": [
    "xn <- out_of_trend(x, method=\"Garm\")\n",
    "mean(xn)"
   ]
  },
  {
   "cell_type": "markdown",
   "metadata": {},
   "source": [
    "Ну вот мне кажется, что среднее геометрическое и гармоническое около нуля из-за этой фигни:"
   ]
  },
  {
   "cell_type": "code",
   "execution_count": 36,
   "metadata": {},
   "outputs": [
    {
     "data": {
      "image/png": "[encoded data removed]",
      "text/plain": [
       "plot without title"
      ]
     },
     "metadata": {},
     "output_type": "display_data"
    }
   ],
   "source": [
    "plot(t[2:(length(t) - 1)], xn, type=\"l\", xlab=\"Время\", ylab=\"xn\")"
   ]
  },
  {
   "cell_type": "markdown",
   "metadata": {},
   "source": [
    "## 4"
   ]
  },
  {
   "cell_type": "code",
   "execution_count": 37,
   "metadata": {},
   "outputs": [],
   "source": [
    "AlterJohns_Tau <- function(y, tau) {\n",
    "    stopifnot(is.vector(y) & is.numeric(y))\n",
    "    n <- length(y)\n",
    "    stopifnot(is.numeric(tau) & tau %% 1 == 0 & n > tau)\n",
    "    \n",
    "    summa <- 0\n",
    "    for (i in 1:(n - tau)) {\n",
    "        summa <- summa + abs(y[i + tau] - y[i])\n",
    "    }\n",
    "    \n",
    "    return (1 / (n - tau) * summa)\n",
    "}\n",
    "\n",
    "AlterJohns <- function(y) {\n",
    "    return (sapply(1:(length(y) - 1), function(i) (AlterJohns_Tau(y, i))))\n",
    "}"
   ]
  },
  {
   "cell_type": "code",
   "execution_count": 38,
   "metadata": {},
   "outputs": [
    {
     "data": {
      "image/png": "[encoded data removed]",
      "text/plain": [
       "plot without title"
      ]
     },
     "metadata": {},
     "output_type": "display_data"
    }
   ],
   "source": [
    "plot(t[1:(length(xn) - 1)], AlterJohns(xn), type=\"l\", xlab=\"Время\", ylab=\"xn\")"
   ]
  },
  {
   "cell_type": "markdown",
   "metadata": {},
   "source": [
    "## 6"
   ]
  },
  {
   "cell_type": "code",
   "execution_count": 39,
   "metadata": {},
   "outputs": [],
   "source": [
    "out_of <- out_of_trend(df[[1]], method=\"Geom\")"
   ]
  },
  {
   "cell_type": "code",
   "execution_count": 40,
   "metadata": {},
   "outputs": [],
   "source": [
    "result <- AlterJohns(out_of)"
   ]
  },
  {
   "cell_type": "code",
   "execution_count": 41,
   "metadata": {},
   "outputs": [
    {
     "data": {
      "text/html": [
       "<ol class=list-inline>\n",
       "\t<li>0.0385907048322104</li>\n",
       "\t<li>0.0315400269263742</li>\n",
       "\t<li>0.031865242347967</li>\n",
       "\t<li>0.031906669863978</li>\n",
       "\t<li>0.0323440321716739</li>\n",
       "\t<li>0.0315220579516616</li>\n",
       "</ol>\n"
      ],
      "text/latex": [
       "\\begin{enumerate*}\n",
       "\\item 0.0385907048322104\n",
       "\\item 0.0315400269263742\n",
       "\\item 0.031865242347967\n",
       "\\item 0.031906669863978\n",
       "\\item 0.0323440321716739\n",
       "\\item 0.0315220579516616\n",
       "\\end{enumerate*}\n"
      ],
      "text/markdown": [
       "1. 0.0385907048322104\n",
       "2. 0.0315400269263742\n",
       "3. 0.031865242347967\n",
       "4. 0.031906669863978\n",
       "5. 0.0323440321716739\n",
       "6. 0.0315220579516616\n",
       "\n",
       "\n"
      ],
      "text/plain": [
       "[1] 0.03859070 0.03154003 0.03186524 0.03190667 0.03234403 0.03152206"
      ]
     },
     "metadata": {},
     "output_type": "display_data"
    }
   ],
   "source": [
    "head(result)"
   ]
  },
  {
   "cell_type": "code",
   "execution_count": 42,
   "metadata": {},
   "outputs": [
    {
     "data": {
      "image/png": "[encoded data removed]",
      "text/plain": [
       "plot without title"
      ]
     },
     "metadata": {},
     "output_type": "display_data"
    }
   ],
   "source": [
    "plot(df[[1]], type=\"l\")"
   ]
  },
  {
   "cell_type": "code",
   "execution_count": 43,
   "metadata": {},
   "outputs": [
    {
     "data": {
      "image/png": "[encoded data removed]",
      "text/plain": [
       "plot without title"
      ]
     },
     "metadata": {},
     "output_type": "display_data"
    }
   ],
   "source": [
    "plot(out_of)"
   ]
  },
  {
   "cell_type": "code",
   "execution_count": null,
   "metadata": {},
   "outputs": [],
   "source": []
  }
 ],
 "metadata": {
  "kernelspec": {
   "display_name": "R",
   "language": "R",
   "name": "ir"
  },
  "language_info": {
   "codemirror_mode": "r",
   "file_extension": ".r",
   "mimetype": "text/x-r-source",
   "name": "R",
   "pygments_lexer": "r",
   "version": "3.6.1"
  }
 },
 "nbformat": 4,
 "nbformat_minor": 4
}
