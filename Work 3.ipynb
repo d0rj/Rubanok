{
 "cells": [
  {
   "cell_type": "markdown",
   "metadata": {},
   "source": [
    "### 1"
   ]
  },
  {
   "cell_type": "code",
   "execution_count": 1,
   "metadata": {},
   "outputs": [
    {
     "name": "stderr",
     "output_type": "stream",
     "text": [
      "Warning message in readRDS(dest):\n",
      "\"lzma decoding result 10\""
     ]
    },
    {
     "name": "stdout",
     "output_type": "stream",
     "text": [
      "package 'dplyr' successfully unpacked and MD5 sums checked\n",
      "package 'tidyr' successfully unpacked and MD5 sums checked\n",
      "package 'stringr' successfully unpacked and MD5 sums checked\n",
      "\n",
      "The downloaded binary packages are in\n",
      "\tC:\\Users\\dimab\\AppData\\Local\\Temp\\Rtmpk3enV4\\downloaded_packages\n",
      "package 'dplyr' successfully unpacked and MD5 sums checked\n",
      "\n",
      "The downloaded binary packages are in\n",
      "\tC:\\Users\\dimab\\AppData\\Local\\Temp\\Rtmpk3enV4\\downloaded_packages\n",
      "\n",
      "  There is a binary version available but the source version is later:\n",
      "           binary source needs_compilation\n",
      "data.table 1.13.6 1.14.0              TRUE\n",
      "\n",
      "  Binaries will be installed\n"
     ]
    },
    {
     "name": "stderr",
     "output_type": "stream",
     "text": [
      "Warning message in download.file(url, destfile, method, mode = \"wb\", ...):\n",
      "\"загруженный размер 1556480 != сообщенному размеру 2549278\"Warning message in unzip(zipname, exdir = dest):\n",
      "\"ошибка 1 при распаковке zip-файла\"Warning message in read.dcf(file.path(pkgname, \"DESCRIPTION\"), c(\"Package\", \"Type\")):\n",
      "\"не могу открыть сжатый файл 'data.table/DESCRIPTION', возможная причина -- 'No such file or directory'\""
     ]
    },
    {
     "ename": "ERROR",
     "evalue": "Error in read.dcf(file.path(pkgname, \"DESCRIPTION\"), c(\"Package\", \"Type\")): не могу открыть соединение\n",
     "output_type": "error",
     "traceback": [
      "Error in read.dcf(file.path(pkgname, \"DESCRIPTION\"), c(\"Package\", \"Type\")): не могу открыть соединение\nTraceback:\n",
      "1. install.packages(\"data.table\")",
      "2. .install.winbinary(pkgs = bins, lib = lib, contriburl = contrib.url(repos, \n .     type2), method = method, available = av2, destdir = destdir, \n .     dependencies = NULL, libs_only = libs_only, quiet = quiet, \n .     ...)",
      "3. unpackPkgZip(foundpkgs[okp, 2L], foundpkgs[okp, 1L], lib, libs_only, \n .     lock)",
      "4. read.dcf(file.path(pkgname, \"DESCRIPTION\"), c(\"Package\", \"Type\"))"
     ]
    }
   ],
   "source": [
    "install.packages(c(\"dplyr\", \"tidyr\", \"stringr\"))\n",
    "install.packages(\"dplyr\")\n",
    "install.packages(\"data.table\")\n",
    "install.packages(\"openxlsx\")"
   ]
  },
  {
   "cell_type": "markdown",
   "metadata": {},
   "source": [
    "Загрузка данных для задания"
   ]
  },
  {
   "cell_type": "code",
   "execution_count": null,
   "metadata": {},
   "outputs": [],
   "source": [
    "url <- \"https://raw.githubusercontent.com/CSSEGISandData/COVID-19/master/csse_covid_19_data/csse_covid_19_time_series/time_series_covid19_confirmed_global.csv\"\n",
    "download_folder <- \".\\\\data_input\\\\\""
   ]
  },
  {
   "cell_type": "code",
   "execution_count": null,
   "metadata": {},
   "outputs": [],
   "source": [
    "download.file(url, paste(download_folder, \"time_series_covid19_confirmed_global.csv\", sep=\"\"))"
   ]
  },
  {
   "cell_type": "code",
   "execution_count": null,
   "metadata": {},
   "outputs": [],
   "source": [
    "a <- read.csv(\".\\\\data_input\\\\time_series_covid19_confirmed_global.csv\")"
   ]
  },
  {
   "cell_type": "code",
   "execution_count": null,
   "metadata": {},
   "outputs": [],
   "source": [
    "head(a)"
   ]
  },
  {
   "cell_type": "markdown",
   "metadata": {},
   "source": [
    "### 2"
   ]
  },
  {
   "cell_type": "markdown",
   "metadata": {},
   "source": [
    "\"Выправление\" названий столбцов с датами (*X* стоит в начале названия каждого столбца)"
   ]
  },
  {
   "cell_type": "code",
   "execution_count": null,
   "metadata": {},
   "outputs": [],
   "source": [
    "cols <- colnames(a)[4:length(colnames(a))]\n",
    "cols <- sapply(cols, function (x) return(sub(\"X\", \"\", x)))\n",
    "head(cols)"
   ]
  },
  {
   "cell_type": "code",
   "execution_count": null,
   "metadata": {},
   "outputs": [],
   "source": [
    "colnames(a)[4:length(colnames(a))] <- cols "
   ]
  },
  {
   "cell_type": "code",
   "execution_count": null,
   "metadata": {},
   "outputs": [],
   "source": [
    "head(a)"
   ]
  },
  {
   "cell_type": "markdown",
   "metadata": {},
   "source": [
    "### 3"
   ]
  },
  {
   "cell_type": "code",
   "execution_count": null,
   "metadata": {},
   "outputs": [],
   "source": [
    "library(tidyr)\n",
    "library(dplyr)"
   ]
  },
  {
   "cell_type": "markdown",
   "metadata": {},
   "source": [
    "Объединение столбцов с названиями стран и провинций"
   ]
  },
  {
   "cell_type": "code",
   "execution_count": null,
   "metadata": {},
   "outputs": [],
   "source": [
    "a <- unite(a, \"Location\", Province.State:Country.Region)\n",
    "head(a)"
   ]
  },
  {
   "cell_type": "markdown",
   "metadata": {},
   "source": [
    "И устранение \"артефактов\" их слияния"
   ]
  },
  {
   "cell_type": "code",
   "execution_count": null,
   "metadata": {},
   "outputs": [],
   "source": [
    "a <- mutate(a, Location = gsub(\"^_\", \"\", Location))\n",
    "a <- mutate(a, Location = gsub(\"_\", \": \", Location))"
   ]
  },
  {
   "cell_type": "code",
   "execution_count": null,
   "metadata": {},
   "outputs": [],
   "source": [
    "head(a)"
   ]
  },
  {
   "cell_type": "markdown",
   "metadata": {},
   "source": [
    "### 4"
   ]
  },
  {
   "cell_type": "markdown",
   "metadata": {},
   "source": [
    "Тут создаётся фрейм с указанными в задании колонками, половина из которых вычисляется на основе данных о числе заболевших:\n",
    "\n",
    "* Расположение;\n",
    "* Широта;\n",
    "* Долгота;\n",
    "* Сумма заболевших;\n",
    "* Среднее число заболевших;\n",
    "* Стандартное отклонение числа заболевших"
   ]
  },
  {
   "cell_type": "code",
   "execution_count": null,
   "metadata": {},
   "outputs": [],
   "source": [
    "second <- select(a, c(\"Location\", \"Lat\", \"Long\"))\n",
    "head(second)"
   ]
  },
  {
   "cell_type": "code",
   "execution_count": null,
   "metadata": {},
   "outputs": [],
   "source": [
    "second[\"Amount\"] <- rowSums(a[4:length(colnames(a))])\n",
    "head(second)"
   ]
  },
  {
   "cell_type": "code",
   "execution_count": null,
   "metadata": {},
   "outputs": [],
   "source": [
    "second[\"Average\"] <- second[\"Amount\"] / (length(colnames(a)) - 4)\n",
    "head(second)"
   ]
  },
  {
   "cell_type": "code",
   "execution_count": null,
   "metadata": {},
   "outputs": [],
   "source": [
    "second[\"SD\"] <- apply(a[4:length(colnames(a))], 1, sd, na.rm=TRUE)\n",
    "head(second)"
   ]
  },
  {
   "cell_type": "markdown",
   "metadata": {},
   "source": [
    "### 5"
   ]
  },
  {
   "cell_type": "markdown",
   "metadata": {},
   "source": [
    "Далее фрейм, по сути, просто транспонируется"
   ]
  },
  {
   "cell_type": "code",
   "execution_count": null,
   "metadata": {},
   "outputs": [],
   "source": [
    "temp_a <- a[-(2:3)]\n",
    "head(temp_a)"
   ]
  },
  {
   "cell_type": "code",
   "execution_count": null,
   "metadata": {},
   "outputs": [],
   "source": [
    "result <- data.frame(t(temp_a[-1]))\n",
    "colnames(result) <- temp_a[, 1]\n",
    "head(result)"
   ]
  },
  {
   "cell_type": "markdown",
   "metadata": {},
   "source": [
    "И первой колонке (индексной) задаётся название **Date**"
   ]
  },
  {
   "cell_type": "code",
   "execution_count": null,
   "metadata": {},
   "outputs": [],
   "source": [
    "library(data.table)\n",
    "setDT(result, keep.rownames=\"Date\")\n",
    "head(result)"
   ]
  },
  {
   "cell_type": "markdown",
   "metadata": {},
   "source": [
    "Ну и дата приводится к нужному формату"
   ]
  },
  {
   "cell_type": "code",
   "execution_count": null,
   "metadata": {},
   "outputs": [],
   "source": [
    "result$Date <- as.Date(result$Date, format=\"%m.%d.%y\")\n",
    "head(result)"
   ]
  },
  {
   "cell_type": "markdown",
   "metadata": {},
   "source": [
    "### 6"
   ]
  },
  {
   "cell_type": "markdown",
   "metadata": {},
   "source": [
    "Выводится итоговая табличка самыми изощрёнными способами"
   ]
  },
  {
   "cell_type": "code",
   "execution_count": null,
   "metadata": {},
   "outputs": [],
   "source": [
    "dir.create(file.path(\"./\", \"data_output\"), showWarnings=FALSE)"
   ]
  },
  {
   "cell_type": "code",
   "execution_count": null,
   "metadata": {},
   "outputs": [],
   "source": [
    "write.table(result, \"./data_output/result.txt\")"
   ]
  },
  {
   "cell_type": "code",
   "execution_count": null,
   "metadata": {},
   "outputs": [],
   "source": [
    "write.csv(result, \"./data_output/result.csv\", row.names=FALSE)"
   ]
  },
  {
   "cell_type": "code",
   "execution_count": null,
   "metadata": {},
   "outputs": [],
   "source": [
    "library(openxlsx)\n",
    "write.xlsx(result, \"./data_output/result.xlsx\")"
   ]
  },
  {
   "cell_type": "code",
   "execution_count": null,
   "metadata": {},
   "outputs": [],
   "source": []
  }
 ],
 "metadata": {
  "kernelspec": {
   "display_name": "R",
   "language": "R",
   "name": "ir"
  },
  "language_info": {
   "codemirror_mode": "r",
   "file_extension": ".r",
   "mimetype": "text/x-r-source",
   "name": "R",
   "pygments_lexer": "r",
   "version": "3.6.1"
  }
 },
 "nbformat": 4,
 "nbformat_minor": 4
}
