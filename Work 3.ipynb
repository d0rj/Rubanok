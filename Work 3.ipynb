{
 "cells": [
  {
   "cell_type": "markdown",
   "metadata": {},
   "source": [
    "### 1"
   ]
  },
  {
   "cell_type": "code",
   "execution_count": 1,
   "metadata": {},
   "outputs": [
    {
     "name": "stdout",
     "output_type": "stream",
     "text": [
      "package 'dplyr' successfully unpacked and MD5 sums checked\n",
      "package 'tidyr' successfully unpacked and MD5 sums checked\n",
      "package 'stringr' successfully unpacked and MD5 sums checked\n",
      "\n",
      "The downloaded binary packages are in\n",
      "\tC:\\Users\\dimab\\AppData\\Local\\Temp\\RtmpQnfYz8\\downloaded_packages\n",
      "package 'dplyr' successfully unpacked and MD5 sums checked\n",
      "\n",
      "The downloaded binary packages are in\n",
      "\tC:\\Users\\dimab\\AppData\\Local\\Temp\\RtmpQnfYz8\\downloaded_packages\n",
      "\n",
      "  There is a binary version available but the source version is later:\n",
      "           binary source needs_compilation\n",
      "data.table 1.13.6 1.14.0              TRUE\n",
      "\n",
      "  Binaries will be installed\n",
      "package 'data.table' successfully unpacked and MD5 sums checked\n",
      "\n",
      "The downloaded binary packages are in\n",
      "\tC:\\Users\\dimab\\AppData\\Local\\Temp\\RtmpQnfYz8\\downloaded_packages\n",
      "package 'openxlsx' successfully unpacked and MD5 sums checked\n",
      "\n",
      "The downloaded binary packages are in\n",
      "\tC:\\Users\\dimab\\AppData\\Local\\Temp\\RtmpQnfYz8\\downloaded_packages\n"
     ]
    }
   ],
   "source": [
    "install.packages(c(\"dplyr\", \"tidyr\", \"stringr\"))\n",
    "install.packages(\"dplyr\")\n",
    "install.packages(\"data.table\")\n",
    "install.packages(\"openxlsx\")"
   ]
  },
  {
   "cell_type": "code",
   "execution_count": 2,
   "metadata": {},
   "outputs": [],
   "source": [
    "url <- \"https://raw.githubusercontent.com/CSSEGISandData/COVID-19/master/csse_covid_19_data/csse_covid_19_time_series/time_series_covid19_confirmed_global.csv\"\n",
    "download_folder <- \".\\\\data_input\\\\\""
   ]
  },
  {
   "cell_type": "code",
   "execution_count": 3,
   "metadata": {},
   "outputs": [],
   "source": [
    "download.file(url, paste(download_folder, \"time_series_covid19_confirmed_global.csv\", sep=\"\"))"
   ]
  },
  {
   "cell_type": "code",
   "execution_count": 4,
   "metadata": {},
   "outputs": [],
   "source": [
    "a <- read.csv(\".\\\\data_input\\\\time_series_covid19_confirmed_global.csv\")"
   ]
  },
  {
   "cell_type": "code",
   "execution_count": 5,
   "metadata": {},
   "outputs": [
    {
     "data": {
      "text/html": [
       "<table>\n",
       "<thead><tr><th scope=col>Province.State</th><th scope=col>Country.Region</th><th scope=col>Lat</th><th scope=col>Long</th><th scope=col>X1.22.20</th><th scope=col>X1.23.20</th><th scope=col>X1.24.20</th><th scope=col>X1.25.20</th><th scope=col>X1.26.20</th><th scope=col>X1.27.20</th><th scope=col>...</th><th scope=col>X2.17.21</th><th scope=col>X2.18.21</th><th scope=col>X2.19.21</th><th scope=col>X2.20.21</th><th scope=col>X2.21.21</th><th scope=col>X2.22.21</th><th scope=col>X2.23.21</th><th scope=col>X2.24.21</th><th scope=col>X2.25.21</th><th scope=col>X2.26.21</th></tr></thead>\n",
       "<tbody>\n",
       "\t<tr><td>                   </td><td>Afghanistan        </td><td> 33.93911          </td><td> 67.70995          </td><td>0                  </td><td>0                  </td><td>0                  </td><td>0                  </td><td>0                  </td><td>0                  </td><td>...                </td><td> 55540             </td><td> 55557             </td><td> 55575             </td><td> 55580             </td><td> 55604             </td><td> 55617             </td><td> 55646             </td><td> 55664             </td><td> 55680             </td><td> 55696             </td></tr>\n",
       "\t<tr><td>                   </td><td>Albania            </td><td> 41.15330          </td><td> 20.16830          </td><td>0                  </td><td>0                  </td><td>0                  </td><td>0                  </td><td>0                  </td><td>0                  </td><td>...                </td><td> 95726             </td><td> 96838             </td><td> 97909             </td><td> 99062             </td><td>100246             </td><td>101285             </td><td>102306             </td><td>103327             </td><td>104313             </td><td>105229             </td></tr>\n",
       "\t<tr><td>                   </td><td>Algeria            </td><td> 28.03390          </td><td>  1.65960          </td><td>0                  </td><td>0                  </td><td>0                  </td><td>0                  </td><td>0                  </td><td>0                  </td><td>...                </td><td>111247             </td><td>111418             </td><td>111600             </td><td>111764             </td><td>111917             </td><td>112094             </td><td>112279             </td><td>112461             </td><td>112622             </td><td>112805             </td></tr>\n",
       "\t<tr><td>                   </td><td>Andorra            </td><td> 42.50630          </td><td>  1.52180          </td><td>0                  </td><td>0                  </td><td>0                  </td><td>0                  </td><td>0                  </td><td>0                  </td><td>...                </td><td> 10583             </td><td> 10610             </td><td> 10645             </td><td> 10672             </td><td> 10699             </td><td> 10712             </td><td> 10739             </td><td> 10775             </td><td> 10799             </td><td> 10822             </td></tr>\n",
       "\t<tr><td>                   </td><td>Angola             </td><td>-11.20270          </td><td> 17.87390          </td><td>0                  </td><td>0                  </td><td>0                  </td><td>0                  </td><td>0                  </td><td>0                  </td><td>...                </td><td> 20400             </td><td> 20452             </td><td> 20478             </td><td> 20499             </td><td> 20519             </td><td> 20548             </td><td> 20584             </td><td> 20640             </td><td> 20695             </td><td> 20759             </td></tr>\n",
       "\t<tr><td>                   </td><td>Antigua and Barbuda</td><td> 17.06080          </td><td>-61.79640          </td><td>0                  </td><td>0                  </td><td>0                  </td><td>0                  </td><td>0                  </td><td>0                  </td><td>...                </td><td>   525             </td><td>   548             </td><td>   548             </td><td>   598             </td><td>   598             </td><td>   614             </td><td>   636             </td><td>   646             </td><td>   701             </td><td>   701             </td></tr>\n",
       "</tbody>\n",
       "</table>\n"
      ],
      "text/latex": [
       "\\begin{tabular}{r|llllllllllllllllllllllllllllllllllllllllllllllllllllllllllllllllllllllllllllllllllllllllllllllllllllllllllllllllllllllllllllllllllllllllllllllllllllllllllllllllllllllllllllllllllllllllllllllllllllllllllllllllllllllllllllllllllllllllllllllllllllllllllllllllllllllllllllllllllllllllllllllllllllllllllllllllllllllllllllllllllllllllllllllllllllllllllllllllllllllllllllllllllllllllllllllllllllllllllllllllllllll}\n",
       " Province.State & Country.Region & Lat & Long & X1.22.20 & X1.23.20 & X1.24.20 & X1.25.20 & X1.26.20 & X1.27.20 & ... & X2.17.21 & X2.18.21 & X2.19.21 & X2.20.21 & X2.21.21 & X2.22.21 & X2.23.21 & X2.24.21 & X2.25.21 & X2.26.21\\\\\n",
       "\\hline\n",
       "\t                     & Afghanistan         &  33.93911           &  67.70995           & 0                   & 0                   & 0                   & 0                   & 0                   & 0                   & ...                 &  55540              &  55557              &  55575              &  55580              &  55604              &  55617              &  55646              &  55664              &  55680              &  55696             \\\\\n",
       "\t                     & Albania             &  41.15330           &  20.16830           & 0                   & 0                   & 0                   & 0                   & 0                   & 0                   & ...                 &  95726              &  96838              &  97909              &  99062              & 100246              & 101285              & 102306              & 103327              & 104313              & 105229             \\\\\n",
       "\t                     & Algeria             &  28.03390           &   1.65960           & 0                   & 0                   & 0                   & 0                   & 0                   & 0                   & ...                 & 111247              & 111418              & 111600              & 111764              & 111917              & 112094              & 112279              & 112461              & 112622              & 112805             \\\\\n",
       "\t                     & Andorra             &  42.50630           &   1.52180           & 0                   & 0                   & 0                   & 0                   & 0                   & 0                   & ...                 &  10583              &  10610              &  10645              &  10672              &  10699              &  10712              &  10739              &  10775              &  10799              &  10822             \\\\\n",
       "\t                     & Angola              & -11.20270           &  17.87390           & 0                   & 0                   & 0                   & 0                   & 0                   & 0                   & ...                 &  20400              &  20452              &  20478              &  20499              &  20519              &  20548              &  20584              &  20640              &  20695              &  20759             \\\\\n",
       "\t                     & Antigua and Barbuda &  17.06080           & -61.79640           & 0                   & 0                   & 0                   & 0                   & 0                   & 0                   & ...                 &    525              &    548              &    548              &    598              &    598              &    614              &    636              &    646              &    701              &    701             \\\\\n",
       "\\end{tabular}\n"
      ],
      "text/markdown": [
       "\n",
       "| Province.State | Country.Region | Lat | Long | X1.22.20 | X1.23.20 | X1.24.20 | X1.25.20 | X1.26.20 | X1.27.20 | ... | X2.17.21 | X2.18.21 | X2.19.21 | X2.20.21 | X2.21.21 | X2.22.21 | X2.23.21 | X2.24.21 | X2.25.21 | X2.26.21 |\n",
       "|---|---|---|---|---|---|---|---|---|---|---|---|---|---|---|---|---|---|---|---|---|\n",
       "|                     | Afghanistan         |  33.93911           |  67.70995           | 0                   | 0                   | 0                   | 0                   | 0                   | 0                   | ...                 |  55540              |  55557              |  55575              |  55580              |  55604              |  55617              |  55646              |  55664              |  55680              |  55696              |\n",
       "|                     | Albania             |  41.15330           |  20.16830           | 0                   | 0                   | 0                   | 0                   | 0                   | 0                   | ...                 |  95726              |  96838              |  97909              |  99062              | 100246              | 101285              | 102306              | 103327              | 104313              | 105229              |\n",
       "|                     | Algeria             |  28.03390           |   1.65960           | 0                   | 0                   | 0                   | 0                   | 0                   | 0                   | ...                 | 111247              | 111418              | 111600              | 111764              | 111917              | 112094              | 112279              | 112461              | 112622              | 112805              |\n",
       "|                     | Andorra             |  42.50630           |   1.52180           | 0                   | 0                   | 0                   | 0                   | 0                   | 0                   | ...                 |  10583              |  10610              |  10645              |  10672              |  10699              |  10712              |  10739              |  10775              |  10799              |  10822              |\n",
       "|                     | Angola              | -11.20270           |  17.87390           | 0                   | 0                   | 0                   | 0                   | 0                   | 0                   | ...                 |  20400              |  20452              |  20478              |  20499              |  20519              |  20548              |  20584              |  20640              |  20695              |  20759              |\n",
       "|                     | Antigua and Barbuda |  17.06080           | -61.79640           | 0                   | 0                   | 0                   | 0                   | 0                   | 0                   | ...                 |    525              |    548              |    548              |    598              |    598              |    614              |    636              |    646              |    701              |    701              |\n",
       "\n"
      ],
      "text/plain": [
       "  Province.State Country.Region      Lat       Long      X1.22.20 X1.23.20\n",
       "1                Afghanistan          33.93911  67.70995 0        0       \n",
       "2                Albania              41.15330  20.16830 0        0       \n",
       "3                Algeria              28.03390   1.65960 0        0       \n",
       "4                Andorra              42.50630   1.52180 0        0       \n",
       "5                Angola              -11.20270  17.87390 0        0       \n",
       "6                Antigua and Barbuda  17.06080 -61.79640 0        0       \n",
       "  X1.24.20 X1.25.20 X1.26.20 X1.27.20 ... X2.17.21 X2.18.21 X2.19.21 X2.20.21\n",
       "1 0        0        0        0        ...  55540    55557    55575    55580  \n",
       "2 0        0        0        0        ...  95726    96838    97909    99062  \n",
       "3 0        0        0        0        ... 111247   111418   111600   111764  \n",
       "4 0        0        0        0        ...  10583    10610    10645    10672  \n",
       "5 0        0        0        0        ...  20400    20452    20478    20499  \n",
       "6 0        0        0        0        ...    525      548      548      598  \n",
       "  X2.21.21 X2.22.21 X2.23.21 X2.24.21 X2.25.21 X2.26.21\n",
       "1  55604    55617    55646    55664    55680    55696  \n",
       "2 100246   101285   102306   103327   104313   105229  \n",
       "3 111917   112094   112279   112461   112622   112805  \n",
       "4  10699    10712    10739    10775    10799    10822  \n",
       "5  20519    20548    20584    20640    20695    20759  \n",
       "6    598      614      636      646      701      701  "
      ]
     },
     "metadata": {},
     "output_type": "display_data"
    }
   ],
   "source": [
    "head(a)"
   ]
  },
  {
   "cell_type": "markdown",
   "metadata": {},
   "source": [
    "### 2"
   ]
  },
  {
   "cell_type": "code",
   "execution_count": 6,
   "metadata": {},
   "outputs": [
    {
     "data": {
      "text/html": [
       "<dl class=dl-horizontal>\n",
       "\t<dt>Long</dt>\n",
       "\t\t<dd>'Long'</dd>\n",
       "\t<dt>X1.22.20</dt>\n",
       "\t\t<dd>'1.22.20'</dd>\n",
       "\t<dt>X1.23.20</dt>\n",
       "\t\t<dd>'1.23.20'</dd>\n",
       "\t<dt>X1.24.20</dt>\n",
       "\t\t<dd>'1.24.20'</dd>\n",
       "\t<dt>X1.25.20</dt>\n",
       "\t\t<dd>'1.25.20'</dd>\n",
       "\t<dt>X1.26.20</dt>\n",
       "\t\t<dd>'1.26.20'</dd>\n",
       "</dl>\n"
      ],
      "text/latex": [
       "\\begin{description*}\n",
       "\\item[Long] 'Long'\n",
       "\\item[X1.22.20] '1.22.20'\n",
       "\\item[X1.23.20] '1.23.20'\n",
       "\\item[X1.24.20] '1.24.20'\n",
       "\\item[X1.25.20] '1.25.20'\n",
       "\\item[X1.26.20] '1.26.20'\n",
       "\\end{description*}\n"
      ],
      "text/markdown": [
       "Long\n",
       ":   'Long'X1.22.20\n",
       ":   '1.22.20'X1.23.20\n",
       ":   '1.23.20'X1.24.20\n",
       ":   '1.24.20'X1.25.20\n",
       ":   '1.25.20'X1.26.20\n",
       ":   '1.26.20'\n",
       "\n"
      ],
      "text/plain": [
       "     Long  X1.22.20  X1.23.20  X1.24.20  X1.25.20  X1.26.20 \n",
       "   \"Long\" \"1.22.20\" \"1.23.20\" \"1.24.20\" \"1.25.20\" \"1.26.20\" "
      ]
     },
     "metadata": {},
     "output_type": "display_data"
    }
   ],
   "source": [
    "cols <- colnames(a)[4:length(colnames(a))]\n",
    "cols <- sapply(cols, function (x) return(sub(\"X\", \"\", x)))\n",
    "head(cols)"
   ]
  },
  {
   "cell_type": "code",
   "execution_count": 7,
   "metadata": {},
   "outputs": [],
   "source": [
    "colnames(a)[4:length(colnames(a))] <- cols "
   ]
  },
  {
   "cell_type": "code",
   "execution_count": 8,
   "metadata": {},
   "outputs": [
    {
     "data": {
      "text/html": [
       "<table>\n",
       "<thead><tr><th scope=col>Province.State</th><th scope=col>Country.Region</th><th scope=col>Lat</th><th scope=col>Long</th><th scope=col>1.22.20</th><th scope=col>1.23.20</th><th scope=col>1.24.20</th><th scope=col>1.25.20</th><th scope=col>1.26.20</th><th scope=col>1.27.20</th><th scope=col>...</th><th scope=col>2.17.21</th><th scope=col>2.18.21</th><th scope=col>2.19.21</th><th scope=col>2.20.21</th><th scope=col>2.21.21</th><th scope=col>2.22.21</th><th scope=col>2.23.21</th><th scope=col>2.24.21</th><th scope=col>2.25.21</th><th scope=col>2.26.21</th></tr></thead>\n",
       "<tbody>\n",
       "\t<tr><td>                   </td><td>Afghanistan        </td><td> 33.93911          </td><td> 67.70995          </td><td>0                  </td><td>0                  </td><td>0                  </td><td>0                  </td><td>0                  </td><td>0                  </td><td>...                </td><td> 55540             </td><td> 55557             </td><td> 55575             </td><td> 55580             </td><td> 55604             </td><td> 55617             </td><td> 55646             </td><td> 55664             </td><td> 55680             </td><td> 55696             </td></tr>\n",
       "\t<tr><td>                   </td><td>Albania            </td><td> 41.15330          </td><td> 20.16830          </td><td>0                  </td><td>0                  </td><td>0                  </td><td>0                  </td><td>0                  </td><td>0                  </td><td>...                </td><td> 95726             </td><td> 96838             </td><td> 97909             </td><td> 99062             </td><td>100246             </td><td>101285             </td><td>102306             </td><td>103327             </td><td>104313             </td><td>105229             </td></tr>\n",
       "\t<tr><td>                   </td><td>Algeria            </td><td> 28.03390          </td><td>  1.65960          </td><td>0                  </td><td>0                  </td><td>0                  </td><td>0                  </td><td>0                  </td><td>0                  </td><td>...                </td><td>111247             </td><td>111418             </td><td>111600             </td><td>111764             </td><td>111917             </td><td>112094             </td><td>112279             </td><td>112461             </td><td>112622             </td><td>112805             </td></tr>\n",
       "\t<tr><td>                   </td><td>Andorra            </td><td> 42.50630          </td><td>  1.52180          </td><td>0                  </td><td>0                  </td><td>0                  </td><td>0                  </td><td>0                  </td><td>0                  </td><td>...                </td><td> 10583             </td><td> 10610             </td><td> 10645             </td><td> 10672             </td><td> 10699             </td><td> 10712             </td><td> 10739             </td><td> 10775             </td><td> 10799             </td><td> 10822             </td></tr>\n",
       "\t<tr><td>                   </td><td>Angola             </td><td>-11.20270          </td><td> 17.87390          </td><td>0                  </td><td>0                  </td><td>0                  </td><td>0                  </td><td>0                  </td><td>0                  </td><td>...                </td><td> 20400             </td><td> 20452             </td><td> 20478             </td><td> 20499             </td><td> 20519             </td><td> 20548             </td><td> 20584             </td><td> 20640             </td><td> 20695             </td><td> 20759             </td></tr>\n",
       "\t<tr><td>                   </td><td>Antigua and Barbuda</td><td> 17.06080          </td><td>-61.79640          </td><td>0                  </td><td>0                  </td><td>0                  </td><td>0                  </td><td>0                  </td><td>0                  </td><td>...                </td><td>   525             </td><td>   548             </td><td>   548             </td><td>   598             </td><td>   598             </td><td>   614             </td><td>   636             </td><td>   646             </td><td>   701             </td><td>   701             </td></tr>\n",
       "</tbody>\n",
       "</table>\n"
      ],
      "text/latex": [
       "\\begin{tabular}{r|llllllllllllllllllllllllllllllllllllllllllllllllllllllllllllllllllllllllllllllllllllllllllllllllllllllllllllllllllllllllllllllllllllllllllllllllllllllllllllllllllllllllllllllllllllllllllllllllllllllllllllllllllllllllllllllllllllllllllllllllllllllllllllllllllllllllllllllllllllllllllllllllllllllllllllllllllllllllllllllllllllllllllllllllllllllllllllllllllllllllllllllllllllllllllllllllllllllllllllllllllllll}\n",
       " Province.State & Country.Region & Lat & Long & 1.22.20 & 1.23.20 & 1.24.20 & 1.25.20 & 1.26.20 & 1.27.20 & ... & 2.17.21 & 2.18.21 & 2.19.21 & 2.20.21 & 2.21.21 & 2.22.21 & 2.23.21 & 2.24.21 & 2.25.21 & 2.26.21\\\\\n",
       "\\hline\n",
       "\t                     & Afghanistan         &  33.93911           &  67.70995           & 0                   & 0                   & 0                   & 0                   & 0                   & 0                   & ...                 &  55540              &  55557              &  55575              &  55580              &  55604              &  55617              &  55646              &  55664              &  55680              &  55696             \\\\\n",
       "\t                     & Albania             &  41.15330           &  20.16830           & 0                   & 0                   & 0                   & 0                   & 0                   & 0                   & ...                 &  95726              &  96838              &  97909              &  99062              & 100246              & 101285              & 102306              & 103327              & 104313              & 105229             \\\\\n",
       "\t                     & Algeria             &  28.03390           &   1.65960           & 0                   & 0                   & 0                   & 0                   & 0                   & 0                   & ...                 & 111247              & 111418              & 111600              & 111764              & 111917              & 112094              & 112279              & 112461              & 112622              & 112805             \\\\\n",
       "\t                     & Andorra             &  42.50630           &   1.52180           & 0                   & 0                   & 0                   & 0                   & 0                   & 0                   & ...                 &  10583              &  10610              &  10645              &  10672              &  10699              &  10712              &  10739              &  10775              &  10799              &  10822             \\\\\n",
       "\t                     & Angola              & -11.20270           &  17.87390           & 0                   & 0                   & 0                   & 0                   & 0                   & 0                   & ...                 &  20400              &  20452              &  20478              &  20499              &  20519              &  20548              &  20584              &  20640              &  20695              &  20759             \\\\\n",
       "\t                     & Antigua and Barbuda &  17.06080           & -61.79640           & 0                   & 0                   & 0                   & 0                   & 0                   & 0                   & ...                 &    525              &    548              &    548              &    598              &    598              &    614              &    636              &    646              &    701              &    701             \\\\\n",
       "\\end{tabular}\n"
      ],
      "text/markdown": [
       "\n",
       "| Province.State | Country.Region | Lat | Long | 1.22.20 | 1.23.20 | 1.24.20 | 1.25.20 | 1.26.20 | 1.27.20 | ... | 2.17.21 | 2.18.21 | 2.19.21 | 2.20.21 | 2.21.21 | 2.22.21 | 2.23.21 | 2.24.21 | 2.25.21 | 2.26.21 |\n",
       "|---|---|---|---|---|---|---|---|---|---|---|---|---|---|---|---|---|---|---|---|---|\n",
       "|                     | Afghanistan         |  33.93911           |  67.70995           | 0                   | 0                   | 0                   | 0                   | 0                   | 0                   | ...                 |  55540              |  55557              |  55575              |  55580              |  55604              |  55617              |  55646              |  55664              |  55680              |  55696              |\n",
       "|                     | Albania             |  41.15330           |  20.16830           | 0                   | 0                   | 0                   | 0                   | 0                   | 0                   | ...                 |  95726              |  96838              |  97909              |  99062              | 100246              | 101285              | 102306              | 103327              | 104313              | 105229              |\n",
       "|                     | Algeria             |  28.03390           |   1.65960           | 0                   | 0                   | 0                   | 0                   | 0                   | 0                   | ...                 | 111247              | 111418              | 111600              | 111764              | 111917              | 112094              | 112279              | 112461              | 112622              | 112805              |\n",
       "|                     | Andorra             |  42.50630           |   1.52180           | 0                   | 0                   | 0                   | 0                   | 0                   | 0                   | ...                 |  10583              |  10610              |  10645              |  10672              |  10699              |  10712              |  10739              |  10775              |  10799              |  10822              |\n",
       "|                     | Angola              | -11.20270           |  17.87390           | 0                   | 0                   | 0                   | 0                   | 0                   | 0                   | ...                 |  20400              |  20452              |  20478              |  20499              |  20519              |  20548              |  20584              |  20640              |  20695              |  20759              |\n",
       "|                     | Antigua and Barbuda |  17.06080           | -61.79640           | 0                   | 0                   | 0                   | 0                   | 0                   | 0                   | ...                 |    525              |    548              |    548              |    598              |    598              |    614              |    636              |    646              |    701              |    701              |\n",
       "\n"
      ],
      "text/plain": [
       "  Province.State Country.Region      Lat       Long      1.22.20 1.23.20\n",
       "1                Afghanistan          33.93911  67.70995 0       0      \n",
       "2                Albania              41.15330  20.16830 0       0      \n",
       "3                Algeria              28.03390   1.65960 0       0      \n",
       "4                Andorra              42.50630   1.52180 0       0      \n",
       "5                Angola              -11.20270  17.87390 0       0      \n",
       "6                Antigua and Barbuda  17.06080 -61.79640 0       0      \n",
       "  1.24.20 1.25.20 1.26.20 1.27.20 ... 2.17.21 2.18.21 2.19.21 2.20.21 2.21.21\n",
       "1 0       0       0       0       ...  55540   55557   55575   55580   55604 \n",
       "2 0       0       0       0       ...  95726   96838   97909   99062  100246 \n",
       "3 0       0       0       0       ... 111247  111418  111600  111764  111917 \n",
       "4 0       0       0       0       ...  10583   10610   10645   10672   10699 \n",
       "5 0       0       0       0       ...  20400   20452   20478   20499   20519 \n",
       "6 0       0       0       0       ...    525     548     548     598     598 \n",
       "  2.22.21 2.23.21 2.24.21 2.25.21 2.26.21\n",
       "1  55617   55646   55664   55680   55696 \n",
       "2 101285  102306  103327  104313  105229 \n",
       "3 112094  112279  112461  112622  112805 \n",
       "4  10712   10739   10775   10799   10822 \n",
       "5  20548   20584   20640   20695   20759 \n",
       "6    614     636     646     701     701 "
      ]
     },
     "metadata": {},
     "output_type": "display_data"
    }
   ],
   "source": [
    "head(a)"
   ]
  },
  {
   "cell_type": "markdown",
   "metadata": {},
   "source": [
    "### 3"
   ]
  },
  {
   "cell_type": "code",
   "execution_count": 9,
   "metadata": {},
   "outputs": [
    {
     "name": "stderr",
     "output_type": "stream",
     "text": [
      "Warning message:\n",
      "\"package 'tidyr' was built under R version 3.6.3\"Warning message:\n",
      "\"package 'dplyr' was built under R version 3.6.3\"\n",
      "Attaching package: 'dplyr'\n",
      "\n",
      "The following objects are masked from 'package:stats':\n",
      "\n",
      "    filter, lag\n",
      "\n",
      "The following objects are masked from 'package:base':\n",
      "\n",
      "    intersect, setdiff, setequal, union\n",
      "\n"
     ]
    }
   ],
   "source": [
    "library(tidyr)\n",
    "library(dplyr)"
   ]
  },
  {
   "cell_type": "code",
   "execution_count": 10,
   "metadata": {},
   "outputs": [
    {
     "data": {
      "text/html": [
       "<table>\n",
       "<thead><tr><th scope=col>Location</th><th scope=col>Lat</th><th scope=col>Long</th><th scope=col>1.22.20</th><th scope=col>1.23.20</th><th scope=col>1.24.20</th><th scope=col>1.25.20</th><th scope=col>1.26.20</th><th scope=col>1.27.20</th><th scope=col>1.28.20</th><th scope=col>...</th><th scope=col>2.17.21</th><th scope=col>2.18.21</th><th scope=col>2.19.21</th><th scope=col>2.20.21</th><th scope=col>2.21.21</th><th scope=col>2.22.21</th><th scope=col>2.23.21</th><th scope=col>2.24.21</th><th scope=col>2.25.21</th><th scope=col>2.26.21</th></tr></thead>\n",
       "<tbody>\n",
       "\t<tr><td>_Afghanistan        </td><td> 33.93911           </td><td> 67.70995           </td><td>0                   </td><td>0                   </td><td>0                   </td><td>0                   </td><td>0                   </td><td>0                   </td><td>0                   </td><td>...                 </td><td> 55540              </td><td> 55557              </td><td> 55575              </td><td> 55580              </td><td> 55604              </td><td> 55617              </td><td> 55646              </td><td> 55664              </td><td> 55680              </td><td> 55696              </td></tr>\n",
       "\t<tr><td>_Albania            </td><td> 41.15330           </td><td> 20.16830           </td><td>0                   </td><td>0                   </td><td>0                   </td><td>0                   </td><td>0                   </td><td>0                   </td><td>0                   </td><td>...                 </td><td> 95726              </td><td> 96838              </td><td> 97909              </td><td> 99062              </td><td>100246              </td><td>101285              </td><td>102306              </td><td>103327              </td><td>104313              </td><td>105229              </td></tr>\n",
       "\t<tr><td>_Algeria            </td><td> 28.03390           </td><td>  1.65960           </td><td>0                   </td><td>0                   </td><td>0                   </td><td>0                   </td><td>0                   </td><td>0                   </td><td>0                   </td><td>...                 </td><td>111247              </td><td>111418              </td><td>111600              </td><td>111764              </td><td>111917              </td><td>112094              </td><td>112279              </td><td>112461              </td><td>112622              </td><td>112805              </td></tr>\n",
       "\t<tr><td>_Andorra            </td><td> 42.50630           </td><td>  1.52180           </td><td>0                   </td><td>0                   </td><td>0                   </td><td>0                   </td><td>0                   </td><td>0                   </td><td>0                   </td><td>...                 </td><td> 10583              </td><td> 10610              </td><td> 10645              </td><td> 10672              </td><td> 10699              </td><td> 10712              </td><td> 10739              </td><td> 10775              </td><td> 10799              </td><td> 10822              </td></tr>\n",
       "\t<tr><td>_Angola             </td><td>-11.20270           </td><td> 17.87390           </td><td>0                   </td><td>0                   </td><td>0                   </td><td>0                   </td><td>0                   </td><td>0                   </td><td>0                   </td><td>...                 </td><td> 20400              </td><td> 20452              </td><td> 20478              </td><td> 20499              </td><td> 20519              </td><td> 20548              </td><td> 20584              </td><td> 20640              </td><td> 20695              </td><td> 20759              </td></tr>\n",
       "\t<tr><td>_Antigua and Barbuda</td><td> 17.06080           </td><td>-61.79640           </td><td>0                   </td><td>0                   </td><td>0                   </td><td>0                   </td><td>0                   </td><td>0                   </td><td>0                   </td><td>...                 </td><td>   525              </td><td>   548              </td><td>   548              </td><td>   598              </td><td>   598              </td><td>   614              </td><td>   636              </td><td>   646              </td><td>   701              </td><td>   701              </td></tr>\n",
       "</tbody>\n",
       "</table>\n"
      ],
      "text/latex": [
       "\\begin{tabular}{r|lllllllllllllllllllllllllllllllllllllllllllllllllllllllllllllllllllllllllllllllllllllllllllllllllllllllllllllllllllllllllllllllllllllllllllllllllllllllllllllllllllllllllllllllllllllllllllllllllllllllllllllllllllllllllllllllllllllllllllllllllllllllllllllllllllllllllllllllllllllllllllllllllllllllllllllllllllllllllllllllllllllllllllllllllllllllllllllllllllllllllllllllllllllllllllllllllllllllllllllllllllll}\n",
       " Location & Lat & Long & 1.22.20 & 1.23.20 & 1.24.20 & 1.25.20 & 1.26.20 & 1.27.20 & 1.28.20 & ... & 2.17.21 & 2.18.21 & 2.19.21 & 2.20.21 & 2.21.21 & 2.22.21 & 2.23.21 & 2.24.21 & 2.25.21 & 2.26.21\\\\\n",
       "\\hline\n",
       "\t \\_Afghanistan         &  33.93911              &  67.70995              & 0                      & 0                      & 0                      & 0                      & 0                      & 0                      & 0                      & ...                    &  55540                 &  55557                 &  55575                 &  55580                 &  55604                 &  55617                 &  55646                 &  55664                 &  55680                 &  55696                \\\\\n",
       "\t \\_Albania             &  41.15330              &  20.16830              & 0                      & 0                      & 0                      & 0                      & 0                      & 0                      & 0                      & ...                    &  95726                 &  96838                 &  97909                 &  99062                 & 100246                 & 101285                 & 102306                 & 103327                 & 104313                 & 105229                \\\\\n",
       "\t \\_Algeria             &  28.03390              &   1.65960              & 0                      & 0                      & 0                      & 0                      & 0                      & 0                      & 0                      & ...                    & 111247                 & 111418                 & 111600                 & 111764                 & 111917                 & 112094                 & 112279                 & 112461                 & 112622                 & 112805                \\\\\n",
       "\t \\_Andorra             &  42.50630              &   1.52180              & 0                      & 0                      & 0                      & 0                      & 0                      & 0                      & 0                      & ...                    &  10583                 &  10610                 &  10645                 &  10672                 &  10699                 &  10712                 &  10739                 &  10775                 &  10799                 &  10822                \\\\\n",
       "\t \\_Angola              & -11.20270              &  17.87390              & 0                      & 0                      & 0                      & 0                      & 0                      & 0                      & 0                      & ...                    &  20400                 &  20452                 &  20478                 &  20499                 &  20519                 &  20548                 &  20584                 &  20640                 &  20695                 &  20759                \\\\\n",
       "\t \\_Antigua and Barbuda &  17.06080              & -61.79640              & 0                      & 0                      & 0                      & 0                      & 0                      & 0                      & 0                      & ...                    &    525                 &    548                 &    548                 &    598                 &    598                 &    614                 &    636                 &    646                 &    701                 &    701                \\\\\n",
       "\\end{tabular}\n"
      ],
      "text/markdown": [
       "\n",
       "| Location | Lat | Long | 1.22.20 | 1.23.20 | 1.24.20 | 1.25.20 | 1.26.20 | 1.27.20 | 1.28.20 | ... | 2.17.21 | 2.18.21 | 2.19.21 | 2.20.21 | 2.21.21 | 2.22.21 | 2.23.21 | 2.24.21 | 2.25.21 | 2.26.21 |\n",
       "|---|---|---|---|---|---|---|---|---|---|---|---|---|---|---|---|---|---|---|---|---|\n",
       "| _Afghanistan         |  33.93911            |  67.70995            | 0                    | 0                    | 0                    | 0                    | 0                    | 0                    | 0                    | ...                  |  55540               |  55557               |  55575               |  55580               |  55604               |  55617               |  55646               |  55664               |  55680               |  55696               |\n",
       "| _Albania             |  41.15330            |  20.16830            | 0                    | 0                    | 0                    | 0                    | 0                    | 0                    | 0                    | ...                  |  95726               |  96838               |  97909               |  99062               | 100246               | 101285               | 102306               | 103327               | 104313               | 105229               |\n",
       "| _Algeria             |  28.03390            |   1.65960            | 0                    | 0                    | 0                    | 0                    | 0                    | 0                    | 0                    | ...                  | 111247               | 111418               | 111600               | 111764               | 111917               | 112094               | 112279               | 112461               | 112622               | 112805               |\n",
       "| _Andorra             |  42.50630            |   1.52180            | 0                    | 0                    | 0                    | 0                    | 0                    | 0                    | 0                    | ...                  |  10583               |  10610               |  10645               |  10672               |  10699               |  10712               |  10739               |  10775               |  10799               |  10822               |\n",
       "| _Angola              | -11.20270            |  17.87390            | 0                    | 0                    | 0                    | 0                    | 0                    | 0                    | 0                    | ...                  |  20400               |  20452               |  20478               |  20499               |  20519               |  20548               |  20584               |  20640               |  20695               |  20759               |\n",
       "| _Antigua and Barbuda |  17.06080            | -61.79640            | 0                    | 0                    | 0                    | 0                    | 0                    | 0                    | 0                    | ...                  |    525               |    548               |    548               |    598               |    598               |    614               |    636               |    646               |    701               |    701               |\n",
       "\n"
      ],
      "text/plain": [
       "  Location             Lat       Long      1.22.20 1.23.20 1.24.20 1.25.20\n",
       "1 _Afghanistan          33.93911  67.70995 0       0       0       0      \n",
       "2 _Albania              41.15330  20.16830 0       0       0       0      \n",
       "3 _Algeria              28.03390   1.65960 0       0       0       0      \n",
       "4 _Andorra              42.50630   1.52180 0       0       0       0      \n",
       "5 _Angola              -11.20270  17.87390 0       0       0       0      \n",
       "6 _Antigua and Barbuda  17.06080 -61.79640 0       0       0       0      \n",
       "  1.26.20 1.27.20 1.28.20 ... 2.17.21 2.18.21 2.19.21 2.20.21 2.21.21 2.22.21\n",
       "1 0       0       0       ...  55540   55557   55575   55580   55604   55617 \n",
       "2 0       0       0       ...  95726   96838   97909   99062  100246  101285 \n",
       "3 0       0       0       ... 111247  111418  111600  111764  111917  112094 \n",
       "4 0       0       0       ...  10583   10610   10645   10672   10699   10712 \n",
       "5 0       0       0       ...  20400   20452   20478   20499   20519   20548 \n",
       "6 0       0       0       ...    525     548     548     598     598     614 \n",
       "  2.23.21 2.24.21 2.25.21 2.26.21\n",
       "1  55646   55664   55680   55696 \n",
       "2 102306  103327  104313  105229 \n",
       "3 112279  112461  112622  112805 \n",
       "4  10739   10775   10799   10822 \n",
       "5  20584   20640   20695   20759 \n",
       "6    636     646     701     701 "
      ]
     },
     "metadata": {},
     "output_type": "display_data"
    }
   ],
   "source": [
    "a <- unite(a, \"Location\", Province.State:Country.Region)\n",
    "head(a)"
   ]
  },
  {
   "cell_type": "code",
   "execution_count": 11,
   "metadata": {},
   "outputs": [],
   "source": [
    "a <- mutate(a, Location = gsub(\"^_\", \"\", Location))\n",
    "a <- mutate(a, Location = gsub(\"_\", \": \", Location))"
   ]
  },
  {
   "cell_type": "code",
   "execution_count": 12,
   "metadata": {},
   "outputs": [
    {
     "data": {
      "text/html": [
       "<table>\n",
       "<thead><tr><th scope=col>Location</th><th scope=col>Lat</th><th scope=col>Long</th><th scope=col>1.22.20</th><th scope=col>1.23.20</th><th scope=col>1.24.20</th><th scope=col>1.25.20</th><th scope=col>1.26.20</th><th scope=col>1.27.20</th><th scope=col>1.28.20</th><th scope=col>...</th><th scope=col>2.17.21</th><th scope=col>2.18.21</th><th scope=col>2.19.21</th><th scope=col>2.20.21</th><th scope=col>2.21.21</th><th scope=col>2.22.21</th><th scope=col>2.23.21</th><th scope=col>2.24.21</th><th scope=col>2.25.21</th><th scope=col>2.26.21</th></tr></thead>\n",
       "<tbody>\n",
       "\t<tr><td>Afghanistan        </td><td> 33.93911          </td><td> 67.70995          </td><td>0                  </td><td>0                  </td><td>0                  </td><td>0                  </td><td>0                  </td><td>0                  </td><td>0                  </td><td>...                </td><td> 55540             </td><td> 55557             </td><td> 55575             </td><td> 55580             </td><td> 55604             </td><td> 55617             </td><td> 55646             </td><td> 55664             </td><td> 55680             </td><td> 55696             </td></tr>\n",
       "\t<tr><td>Albania            </td><td> 41.15330          </td><td> 20.16830          </td><td>0                  </td><td>0                  </td><td>0                  </td><td>0                  </td><td>0                  </td><td>0                  </td><td>0                  </td><td>...                </td><td> 95726             </td><td> 96838             </td><td> 97909             </td><td> 99062             </td><td>100246             </td><td>101285             </td><td>102306             </td><td>103327             </td><td>104313             </td><td>105229             </td></tr>\n",
       "\t<tr><td>Algeria            </td><td> 28.03390          </td><td>  1.65960          </td><td>0                  </td><td>0                  </td><td>0                  </td><td>0                  </td><td>0                  </td><td>0                  </td><td>0                  </td><td>...                </td><td>111247             </td><td>111418             </td><td>111600             </td><td>111764             </td><td>111917             </td><td>112094             </td><td>112279             </td><td>112461             </td><td>112622             </td><td>112805             </td></tr>\n",
       "\t<tr><td>Andorra            </td><td> 42.50630          </td><td>  1.52180          </td><td>0                  </td><td>0                  </td><td>0                  </td><td>0                  </td><td>0                  </td><td>0                  </td><td>0                  </td><td>...                </td><td> 10583             </td><td> 10610             </td><td> 10645             </td><td> 10672             </td><td> 10699             </td><td> 10712             </td><td> 10739             </td><td> 10775             </td><td> 10799             </td><td> 10822             </td></tr>\n",
       "\t<tr><td>Angola             </td><td>-11.20270          </td><td> 17.87390          </td><td>0                  </td><td>0                  </td><td>0                  </td><td>0                  </td><td>0                  </td><td>0                  </td><td>0                  </td><td>...                </td><td> 20400             </td><td> 20452             </td><td> 20478             </td><td> 20499             </td><td> 20519             </td><td> 20548             </td><td> 20584             </td><td> 20640             </td><td> 20695             </td><td> 20759             </td></tr>\n",
       "\t<tr><td>Antigua and Barbuda</td><td> 17.06080          </td><td>-61.79640          </td><td>0                  </td><td>0                  </td><td>0                  </td><td>0                  </td><td>0                  </td><td>0                  </td><td>0                  </td><td>...                </td><td>   525             </td><td>   548             </td><td>   548             </td><td>   598             </td><td>   598             </td><td>   614             </td><td>   636             </td><td>   646             </td><td>   701             </td><td>   701             </td></tr>\n",
       "</tbody>\n",
       "</table>\n"
      ],
      "text/latex": [
       "\\begin{tabular}{r|lllllllllllllllllllllllllllllllllllllllllllllllllllllllllllllllllllllllllllllllllllllllllllllllllllllllllllllllllllllllllllllllllllllllllllllllllllllllllllllllllllllllllllllllllllllllllllllllllllllllllllllllllllllllllllllllllllllllllllllllllllllllllllllllllllllllllllllllllllllllllllllllllllllllllllllllllllllllllllllllllllllllllllllllllllllllllllllllllllllllllllllllllllllllllllllllllllllllllllllllllllll}\n",
       " Location & Lat & Long & 1.22.20 & 1.23.20 & 1.24.20 & 1.25.20 & 1.26.20 & 1.27.20 & 1.28.20 & ... & 2.17.21 & 2.18.21 & 2.19.21 & 2.20.21 & 2.21.21 & 2.22.21 & 2.23.21 & 2.24.21 & 2.25.21 & 2.26.21\\\\\n",
       "\\hline\n",
       "\t Afghanistan         &  33.93911           &  67.70995           & 0                   & 0                   & 0                   & 0                   & 0                   & 0                   & 0                   & ...                 &  55540              &  55557              &  55575              &  55580              &  55604              &  55617              &  55646              &  55664              &  55680              &  55696             \\\\\n",
       "\t Albania             &  41.15330           &  20.16830           & 0                   & 0                   & 0                   & 0                   & 0                   & 0                   & 0                   & ...                 &  95726              &  96838              &  97909              &  99062              & 100246              & 101285              & 102306              & 103327              & 104313              & 105229             \\\\\n",
       "\t Algeria             &  28.03390           &   1.65960           & 0                   & 0                   & 0                   & 0                   & 0                   & 0                   & 0                   & ...                 & 111247              & 111418              & 111600              & 111764              & 111917              & 112094              & 112279              & 112461              & 112622              & 112805             \\\\\n",
       "\t Andorra             &  42.50630           &   1.52180           & 0                   & 0                   & 0                   & 0                   & 0                   & 0                   & 0                   & ...                 &  10583              &  10610              &  10645              &  10672              &  10699              &  10712              &  10739              &  10775              &  10799              &  10822             \\\\\n",
       "\t Angola              & -11.20270           &  17.87390           & 0                   & 0                   & 0                   & 0                   & 0                   & 0                   & 0                   & ...                 &  20400              &  20452              &  20478              &  20499              &  20519              &  20548              &  20584              &  20640              &  20695              &  20759             \\\\\n",
       "\t Antigua and Barbuda &  17.06080           & -61.79640           & 0                   & 0                   & 0                   & 0                   & 0                   & 0                   & 0                   & ...                 &    525              &    548              &    548              &    598              &    598              &    614              &    636              &    646              &    701              &    701             \\\\\n",
       "\\end{tabular}\n"
      ],
      "text/markdown": [
       "\n",
       "| Location | Lat | Long | 1.22.20 | 1.23.20 | 1.24.20 | 1.25.20 | 1.26.20 | 1.27.20 | 1.28.20 | ... | 2.17.21 | 2.18.21 | 2.19.21 | 2.20.21 | 2.21.21 | 2.22.21 | 2.23.21 | 2.24.21 | 2.25.21 | 2.26.21 |\n",
       "|---|---|---|---|---|---|---|---|---|---|---|---|---|---|---|---|---|---|---|---|---|\n",
       "| Afghanistan         |  33.93911           |  67.70995           | 0                   | 0                   | 0                   | 0                   | 0                   | 0                   | 0                   | ...                 |  55540              |  55557              |  55575              |  55580              |  55604              |  55617              |  55646              |  55664              |  55680              |  55696              |\n",
       "| Albania             |  41.15330           |  20.16830           | 0                   | 0                   | 0                   | 0                   | 0                   | 0                   | 0                   | ...                 |  95726              |  96838              |  97909              |  99062              | 100246              | 101285              | 102306              | 103327              | 104313              | 105229              |\n",
       "| Algeria             |  28.03390           |   1.65960           | 0                   | 0                   | 0                   | 0                   | 0                   | 0                   | 0                   | ...                 | 111247              | 111418              | 111600              | 111764              | 111917              | 112094              | 112279              | 112461              | 112622              | 112805              |\n",
       "| Andorra             |  42.50630           |   1.52180           | 0                   | 0                   | 0                   | 0                   | 0                   | 0                   | 0                   | ...                 |  10583              |  10610              |  10645              |  10672              |  10699              |  10712              |  10739              |  10775              |  10799              |  10822              |\n",
       "| Angola              | -11.20270           |  17.87390           | 0                   | 0                   | 0                   | 0                   | 0                   | 0                   | 0                   | ...                 |  20400              |  20452              |  20478              |  20499              |  20519              |  20548              |  20584              |  20640              |  20695              |  20759              |\n",
       "| Antigua and Barbuda |  17.06080           | -61.79640           | 0                   | 0                   | 0                   | 0                   | 0                   | 0                   | 0                   | ...                 |    525              |    548              |    548              |    598              |    598              |    614              |    636              |    646              |    701              |    701              |\n",
       "\n"
      ],
      "text/plain": [
       "  Location            Lat       Long      1.22.20 1.23.20 1.24.20 1.25.20\n",
       "1 Afghanistan          33.93911  67.70995 0       0       0       0      \n",
       "2 Albania              41.15330  20.16830 0       0       0       0      \n",
       "3 Algeria              28.03390   1.65960 0       0       0       0      \n",
       "4 Andorra              42.50630   1.52180 0       0       0       0      \n",
       "5 Angola              -11.20270  17.87390 0       0       0       0      \n",
       "6 Antigua and Barbuda  17.06080 -61.79640 0       0       0       0      \n",
       "  1.26.20 1.27.20 1.28.20 ... 2.17.21 2.18.21 2.19.21 2.20.21 2.21.21 2.22.21\n",
       "1 0       0       0       ...  55540   55557   55575   55580   55604   55617 \n",
       "2 0       0       0       ...  95726   96838   97909   99062  100246  101285 \n",
       "3 0       0       0       ... 111247  111418  111600  111764  111917  112094 \n",
       "4 0       0       0       ...  10583   10610   10645   10672   10699   10712 \n",
       "5 0       0       0       ...  20400   20452   20478   20499   20519   20548 \n",
       "6 0       0       0       ...    525     548     548     598     598     614 \n",
       "  2.23.21 2.24.21 2.25.21 2.26.21\n",
       "1  55646   55664   55680   55696 \n",
       "2 102306  103327  104313  105229 \n",
       "3 112279  112461  112622  112805 \n",
       "4  10739   10775   10799   10822 \n",
       "5  20584   20640   20695   20759 \n",
       "6    636     646     701     701 "
      ]
     },
     "metadata": {},
     "output_type": "display_data"
    }
   ],
   "source": [
    "head(a)"
   ]
  },
  {
   "cell_type": "markdown",
   "metadata": {},
   "source": [
    "### 4"
   ]
  },
  {
   "cell_type": "code",
   "execution_count": 13,
   "metadata": {},
   "outputs": [
    {
     "data": {
      "text/html": [
       "<table>\n",
       "<thead><tr><th scope=col>Location</th><th scope=col>Lat</th><th scope=col>Long</th></tr></thead>\n",
       "<tbody>\n",
       "\t<tr><td>Afghanistan        </td><td> 33.93911          </td><td> 67.70995          </td></tr>\n",
       "\t<tr><td>Albania            </td><td> 41.15330          </td><td> 20.16830          </td></tr>\n",
       "\t<tr><td>Algeria            </td><td> 28.03390          </td><td>  1.65960          </td></tr>\n",
       "\t<tr><td>Andorra            </td><td> 42.50630          </td><td>  1.52180          </td></tr>\n",
       "\t<tr><td>Angola             </td><td>-11.20270          </td><td> 17.87390          </td></tr>\n",
       "\t<tr><td>Antigua and Barbuda</td><td> 17.06080          </td><td>-61.79640          </td></tr>\n",
       "</tbody>\n",
       "</table>\n"
      ],
      "text/latex": [
       "\\begin{tabular}{r|lll}\n",
       " Location & Lat & Long\\\\\n",
       "\\hline\n",
       "\t Afghanistan         &  33.93911           &  67.70995          \\\\\n",
       "\t Albania             &  41.15330           &  20.16830          \\\\\n",
       "\t Algeria             &  28.03390           &   1.65960          \\\\\n",
       "\t Andorra             &  42.50630           &   1.52180          \\\\\n",
       "\t Angola              & -11.20270           &  17.87390          \\\\\n",
       "\t Antigua and Barbuda &  17.06080           & -61.79640          \\\\\n",
       "\\end{tabular}\n"
      ],
      "text/markdown": [
       "\n",
       "| Location | Lat | Long |\n",
       "|---|---|---|\n",
       "| Afghanistan         |  33.93911           |  67.70995           |\n",
       "| Albania             |  41.15330           |  20.16830           |\n",
       "| Algeria             |  28.03390           |   1.65960           |\n",
       "| Andorra             |  42.50630           |   1.52180           |\n",
       "| Angola              | -11.20270           |  17.87390           |\n",
       "| Antigua and Barbuda |  17.06080           | -61.79640           |\n",
       "\n"
      ],
      "text/plain": [
       "  Location            Lat       Long     \n",
       "1 Afghanistan          33.93911  67.70995\n",
       "2 Albania              41.15330  20.16830\n",
       "3 Algeria              28.03390   1.65960\n",
       "4 Andorra              42.50630   1.52180\n",
       "5 Angola              -11.20270  17.87390\n",
       "6 Antigua and Barbuda  17.06080 -61.79640"
      ]
     },
     "metadata": {},
     "output_type": "display_data"
    }
   ],
   "source": [
    "second <- select(a, c(\"Location\", \"Lat\", \"Long\"))\n",
    "head(second)"
   ]
  },
  {
   "cell_type": "code",
   "execution_count": 14,
   "metadata": {},
   "outputs": [
    {
     "data": {
      "text/html": [
       "<table>\n",
       "<thead><tr><th scope=col>Location</th><th scope=col>Lat</th><th scope=col>Long</th><th scope=col>Amount</th></tr></thead>\n",
       "<tbody>\n",
       "\t<tr><td>Afghanistan        </td><td> 33.93911          </td><td> 67.70995          </td><td>11595342           </td></tr>\n",
       "\t<tr><td>Albania            </td><td> 41.15330          </td><td> 20.16830          </td><td> 8213100           </td></tr>\n",
       "\t<tr><td>Algeria            </td><td> 28.03390          </td><td>  1.65960          </td><td>16666305           </td></tr>\n",
       "\t<tr><td>Andorra            </td><td> 42.50630          </td><td>  1.52180          </td><td> 1233745           </td></tr>\n",
       "\t<tr><td>Angola             </td><td>-11.20270          </td><td> 17.87390          </td><td> 2451618           </td></tr>\n",
       "\t<tr><td>Antigua and Barbuda</td><td> 17.06080          </td><td>-61.79640          </td><td>   40162           </td></tr>\n",
       "</tbody>\n",
       "</table>\n"
      ],
      "text/latex": [
       "\\begin{tabular}{r|llll}\n",
       " Location & Lat & Long & Amount\\\\\n",
       "\\hline\n",
       "\t Afghanistan         &  33.93911           &  67.70995           & 11595342           \\\\\n",
       "\t Albania             &  41.15330           &  20.16830           &  8213100           \\\\\n",
       "\t Algeria             &  28.03390           &   1.65960           & 16666305           \\\\\n",
       "\t Andorra             &  42.50630           &   1.52180           &  1233745           \\\\\n",
       "\t Angola              & -11.20270           &  17.87390           &  2451618           \\\\\n",
       "\t Antigua and Barbuda &  17.06080           & -61.79640           &    40162           \\\\\n",
       "\\end{tabular}\n"
      ],
      "text/markdown": [
       "\n",
       "| Location | Lat | Long | Amount |\n",
       "|---|---|---|---|\n",
       "| Afghanistan         |  33.93911           |  67.70995           | 11595342            |\n",
       "| Albania             |  41.15330           |  20.16830           |  8213100            |\n",
       "| Algeria             |  28.03390           |   1.65960           | 16666305            |\n",
       "| Andorra             |  42.50630           |   1.52180           |  1233745            |\n",
       "| Angola              | -11.20270           |  17.87390           |  2451618            |\n",
       "| Antigua and Barbuda |  17.06080           | -61.79640           |    40162            |\n",
       "\n"
      ],
      "text/plain": [
       "  Location            Lat       Long      Amount  \n",
       "1 Afghanistan          33.93911  67.70995 11595342\n",
       "2 Albania              41.15330  20.16830  8213100\n",
       "3 Algeria              28.03390   1.65960 16666305\n",
       "4 Andorra              42.50630   1.52180  1233745\n",
       "5 Angola              -11.20270  17.87390  2451618\n",
       "6 Antigua and Barbuda  17.06080 -61.79640    40162"
      ]
     },
     "metadata": {},
     "output_type": "display_data"
    }
   ],
   "source": [
    "second[\"Amount\"] <- rowSums(a[4:length(colnames(a))])\n",
    "head(second)"
   ]
  },
  {
   "cell_type": "code",
   "execution_count": 15,
   "metadata": {},
   "outputs": [
    {
     "data": {
      "text/html": [
       "<table>\n",
       "<thead><tr><th scope=col>Location</th><th scope=col>Lat</th><th scope=col>Long</th><th scope=col>Amount</th><th scope=col>Average</th></tr></thead>\n",
       "<tbody>\n",
       "\t<tr><td>Afghanistan        </td><td> 33.93911          </td><td> 67.70995          </td><td>11595342           </td><td>28916.0648         </td></tr>\n",
       "\t<tr><td>Albania            </td><td> 41.15330          </td><td> 20.16830          </td><td> 8213100           </td><td>20481.5461         </td></tr>\n",
       "\t<tr><td>Algeria            </td><td> 28.03390          </td><td>  1.65960          </td><td>16666305           </td><td>41561.8579         </td></tr>\n",
       "\t<tr><td>Andorra            </td><td> 42.50630          </td><td>  1.52180          </td><td> 1233745           </td><td> 3076.6708         </td></tr>\n",
       "\t<tr><td>Angola             </td><td>-11.20270          </td><td> 17.87390          </td><td> 2451618           </td><td> 6113.7606         </td></tr>\n",
       "\t<tr><td>Antigua and Barbuda</td><td> 17.06080          </td><td>-61.79640          </td><td>   40162           </td><td>  100.1546         </td></tr>\n",
       "</tbody>\n",
       "</table>\n"
      ],
      "text/latex": [
       "\\begin{tabular}{r|lllll}\n",
       " Location & Lat & Long & Amount & Average\\\\\n",
       "\\hline\n",
       "\t Afghanistan         &  33.93911           &  67.70995           & 11595342            & 28916.0648         \\\\\n",
       "\t Albania             &  41.15330           &  20.16830           &  8213100            & 20481.5461         \\\\\n",
       "\t Algeria             &  28.03390           &   1.65960           & 16666305            & 41561.8579         \\\\\n",
       "\t Andorra             &  42.50630           &   1.52180           &  1233745            &  3076.6708         \\\\\n",
       "\t Angola              & -11.20270           &  17.87390           &  2451618            &  6113.7606         \\\\\n",
       "\t Antigua and Barbuda &  17.06080           & -61.79640           &    40162            &   100.1546         \\\\\n",
       "\\end{tabular}\n"
      ],
      "text/markdown": [
       "\n",
       "| Location | Lat | Long | Amount | Average |\n",
       "|---|---|---|---|---|\n",
       "| Afghanistan         |  33.93911           |  67.70995           | 11595342            | 28916.0648          |\n",
       "| Albania             |  41.15330           |  20.16830           |  8213100            | 20481.5461          |\n",
       "| Algeria             |  28.03390           |   1.65960           | 16666305            | 41561.8579          |\n",
       "| Andorra             |  42.50630           |   1.52180           |  1233745            |  3076.6708          |\n",
       "| Angola              | -11.20270           |  17.87390           |  2451618            |  6113.7606          |\n",
       "| Antigua and Barbuda |  17.06080           | -61.79640           |    40162            |   100.1546          |\n",
       "\n"
      ],
      "text/plain": [
       "  Location            Lat       Long      Amount   Average   \n",
       "1 Afghanistan          33.93911  67.70995 11595342 28916.0648\n",
       "2 Albania              41.15330  20.16830  8213100 20481.5461\n",
       "3 Algeria              28.03390   1.65960 16666305 41561.8579\n",
       "4 Andorra              42.50630   1.52180  1233745  3076.6708\n",
       "5 Angola              -11.20270  17.87390  2451618  6113.7606\n",
       "6 Antigua and Barbuda  17.06080 -61.79640    40162   100.1546"
      ]
     },
     "metadata": {},
     "output_type": "display_data"
    }
   ],
   "source": [
    "second[\"Average\"] <- second[\"Amount\"] / (length(colnames(a)) - 4)\n",
    "head(second)"
   ]
  },
  {
   "cell_type": "code",
   "execution_count": 16,
   "metadata": {},
   "outputs": [
    {
     "data": {
      "text/html": [
       "<table>\n",
       "<thead><tr><th scope=col>Location</th><th scope=col>Lat</th><th scope=col>Long</th><th scope=col>Amount</th><th scope=col>Average</th><th scope=col>SD</th></tr></thead>\n",
       "<tbody>\n",
       "\t<tr><td>Afghanistan        </td><td> 33.93911          </td><td> 67.70995          </td><td>11595342           </td><td>28916.0648         </td><td>20300.2536         </td></tr>\n",
       "\t<tr><td>Albania            </td><td> 41.15330          </td><td> 20.16830          </td><td> 8213100           </td><td>20481.5461         </td><td>28049.5883         </td></tr>\n",
       "\t<tr><td>Algeria            </td><td> 28.03390          </td><td>  1.65960          </td><td>16666305           </td><td>41561.8579         </td><td>38765.0617         </td></tr>\n",
       "\t<tr><td>Andorra            </td><td> 42.50630          </td><td>  1.52180          </td><td> 1233745           </td><td> 3076.6708         </td><td> 3482.9543         </td></tr>\n",
       "\t<tr><td>Angola             </td><td>-11.20270          </td><td> 17.87390          </td><td> 2451618           </td><td> 6113.7606         </td><td> 7556.8950         </td></tr>\n",
       "\t<tr><td>Antigua and Barbuda</td><td> 17.06080          </td><td>-61.79640          </td><td>   40162           </td><td>  100.1546         </td><td>  113.9812         </td></tr>\n",
       "</tbody>\n",
       "</table>\n"
      ],
      "text/latex": [
       "\\begin{tabular}{r|llllll}\n",
       " Location & Lat & Long & Amount & Average & SD\\\\\n",
       "\\hline\n",
       "\t Afghanistan         &  33.93911           &  67.70995           & 11595342            & 28916.0648          & 20300.2536         \\\\\n",
       "\t Albania             &  41.15330           &  20.16830           &  8213100            & 20481.5461          & 28049.5883         \\\\\n",
       "\t Algeria             &  28.03390           &   1.65960           & 16666305            & 41561.8579          & 38765.0617         \\\\\n",
       "\t Andorra             &  42.50630           &   1.52180           &  1233745            &  3076.6708          &  3482.9543         \\\\\n",
       "\t Angola              & -11.20270           &  17.87390           &  2451618            &  6113.7606          &  7556.8950         \\\\\n",
       "\t Antigua and Barbuda &  17.06080           & -61.79640           &    40162            &   100.1546          &   113.9812         \\\\\n",
       "\\end{tabular}\n"
      ],
      "text/markdown": [
       "\n",
       "| Location | Lat | Long | Amount | Average | SD |\n",
       "|---|---|---|---|---|---|\n",
       "| Afghanistan         |  33.93911           |  67.70995           | 11595342            | 28916.0648          | 20300.2536          |\n",
       "| Albania             |  41.15330           |  20.16830           |  8213100            | 20481.5461          | 28049.5883          |\n",
       "| Algeria             |  28.03390           |   1.65960           | 16666305            | 41561.8579          | 38765.0617          |\n",
       "| Andorra             |  42.50630           |   1.52180           |  1233745            |  3076.6708          |  3482.9543          |\n",
       "| Angola              | -11.20270           |  17.87390           |  2451618            |  6113.7606          |  7556.8950          |\n",
       "| Antigua and Barbuda |  17.06080           | -61.79640           |    40162            |   100.1546          |   113.9812          |\n",
       "\n"
      ],
      "text/plain": [
       "  Location            Lat       Long      Amount   Average    SD        \n",
       "1 Afghanistan          33.93911  67.70995 11595342 28916.0648 20300.2536\n",
       "2 Albania              41.15330  20.16830  8213100 20481.5461 28049.5883\n",
       "3 Algeria              28.03390   1.65960 16666305 41561.8579 38765.0617\n",
       "4 Andorra              42.50630   1.52180  1233745  3076.6708  3482.9543\n",
       "5 Angola              -11.20270  17.87390  2451618  6113.7606  7556.8950\n",
       "6 Antigua and Barbuda  17.06080 -61.79640    40162   100.1546   113.9812"
      ]
     },
     "metadata": {},
     "output_type": "display_data"
    }
   ],
   "source": [
    "second[\"SD\"] <- apply(a[4:length(colnames(a))], 1, sd, na.rm=TRUE)\n",
    "head(second)"
   ]
  },
  {
   "cell_type": "markdown",
   "metadata": {},
   "source": [
    "### 5"
   ]
  },
  {
   "cell_type": "code",
   "execution_count": 17,
   "metadata": {},
   "outputs": [
    {
     "data": {
      "text/html": [
       "<table>\n",
       "<thead><tr><th scope=col>Location</th><th scope=col>1.22.20</th><th scope=col>1.23.20</th><th scope=col>1.24.20</th><th scope=col>1.25.20</th><th scope=col>1.26.20</th><th scope=col>1.27.20</th><th scope=col>1.28.20</th><th scope=col>1.29.20</th><th scope=col>1.30.20</th><th scope=col>...</th><th scope=col>2.17.21</th><th scope=col>2.18.21</th><th scope=col>2.19.21</th><th scope=col>2.20.21</th><th scope=col>2.21.21</th><th scope=col>2.22.21</th><th scope=col>2.23.21</th><th scope=col>2.24.21</th><th scope=col>2.25.21</th><th scope=col>2.26.21</th></tr></thead>\n",
       "<tbody>\n",
       "\t<tr><td>Afghanistan        </td><td>0                  </td><td>0                  </td><td>0                  </td><td>0                  </td><td>0                  </td><td>0                  </td><td>0                  </td><td>0                  </td><td>0                  </td><td>...                </td><td> 55540             </td><td> 55557             </td><td> 55575             </td><td> 55580             </td><td> 55604             </td><td> 55617             </td><td> 55646             </td><td> 55664             </td><td> 55680             </td><td> 55696             </td></tr>\n",
       "\t<tr><td>Albania            </td><td>0                  </td><td>0                  </td><td>0                  </td><td>0                  </td><td>0                  </td><td>0                  </td><td>0                  </td><td>0                  </td><td>0                  </td><td>...                </td><td> 95726             </td><td> 96838             </td><td> 97909             </td><td> 99062             </td><td>100246             </td><td>101285             </td><td>102306             </td><td>103327             </td><td>104313             </td><td>105229             </td></tr>\n",
       "\t<tr><td>Algeria            </td><td>0                  </td><td>0                  </td><td>0                  </td><td>0                  </td><td>0                  </td><td>0                  </td><td>0                  </td><td>0                  </td><td>0                  </td><td>...                </td><td>111247             </td><td>111418             </td><td>111600             </td><td>111764             </td><td>111917             </td><td>112094             </td><td>112279             </td><td>112461             </td><td>112622             </td><td>112805             </td></tr>\n",
       "\t<tr><td>Andorra            </td><td>0                  </td><td>0                  </td><td>0                  </td><td>0                  </td><td>0                  </td><td>0                  </td><td>0                  </td><td>0                  </td><td>0                  </td><td>...                </td><td> 10583             </td><td> 10610             </td><td> 10645             </td><td> 10672             </td><td> 10699             </td><td> 10712             </td><td> 10739             </td><td> 10775             </td><td> 10799             </td><td> 10822             </td></tr>\n",
       "\t<tr><td>Angola             </td><td>0                  </td><td>0                  </td><td>0                  </td><td>0                  </td><td>0                  </td><td>0                  </td><td>0                  </td><td>0                  </td><td>0                  </td><td>...                </td><td> 20400             </td><td> 20452             </td><td> 20478             </td><td> 20499             </td><td> 20519             </td><td> 20548             </td><td> 20584             </td><td> 20640             </td><td> 20695             </td><td> 20759             </td></tr>\n",
       "\t<tr><td>Antigua and Barbuda</td><td>0                  </td><td>0                  </td><td>0                  </td><td>0                  </td><td>0                  </td><td>0                  </td><td>0                  </td><td>0                  </td><td>0                  </td><td>...                </td><td>   525             </td><td>   548             </td><td>   548             </td><td>   598             </td><td>   598             </td><td>   614             </td><td>   636             </td><td>   646             </td><td>   701             </td><td>   701             </td></tr>\n",
       "</tbody>\n",
       "</table>\n"
      ],
      "text/latex": [
       "\\begin{tabular}{r|lllllllllllllllllllllllllllllllllllllllllllllllllllllllllllllllllllllllllllllllllllllllllllllllllllllllllllllllllllllllllllllllllllllllllllllllllllllllllllllllllllllllllllllllllllllllllllllllllllllllllllllllllllllllllllllllllllllllllllllllllllllllllllllllllllllllllllllllllllllllllllllllllllllllllllllllllllllllllllllllllllllllllllllllllllllllllllllllllllllllllllllllllllllllllllllllllllllllllllllllllll}\n",
       " Location & 1.22.20 & 1.23.20 & 1.24.20 & 1.25.20 & 1.26.20 & 1.27.20 & 1.28.20 & 1.29.20 & 1.30.20 & ... & 2.17.21 & 2.18.21 & 2.19.21 & 2.20.21 & 2.21.21 & 2.22.21 & 2.23.21 & 2.24.21 & 2.25.21 & 2.26.21\\\\\n",
       "\\hline\n",
       "\t Afghanistan         & 0                   & 0                   & 0                   & 0                   & 0                   & 0                   & 0                   & 0                   & 0                   & ...                 &  55540              &  55557              &  55575              &  55580              &  55604              &  55617              &  55646              &  55664              &  55680              &  55696             \\\\\n",
       "\t Albania             & 0                   & 0                   & 0                   & 0                   & 0                   & 0                   & 0                   & 0                   & 0                   & ...                 &  95726              &  96838              &  97909              &  99062              & 100246              & 101285              & 102306              & 103327              & 104313              & 105229             \\\\\n",
       "\t Algeria             & 0                   & 0                   & 0                   & 0                   & 0                   & 0                   & 0                   & 0                   & 0                   & ...                 & 111247              & 111418              & 111600              & 111764              & 111917              & 112094              & 112279              & 112461              & 112622              & 112805             \\\\\n",
       "\t Andorra             & 0                   & 0                   & 0                   & 0                   & 0                   & 0                   & 0                   & 0                   & 0                   & ...                 &  10583              &  10610              &  10645              &  10672              &  10699              &  10712              &  10739              &  10775              &  10799              &  10822             \\\\\n",
       "\t Angola              & 0                   & 0                   & 0                   & 0                   & 0                   & 0                   & 0                   & 0                   & 0                   & ...                 &  20400              &  20452              &  20478              &  20499              &  20519              &  20548              &  20584              &  20640              &  20695              &  20759             \\\\\n",
       "\t Antigua and Barbuda & 0                   & 0                   & 0                   & 0                   & 0                   & 0                   & 0                   & 0                   & 0                   & ...                 &    525              &    548              &    548              &    598              &    598              &    614              &    636              &    646              &    701              &    701             \\\\\n",
       "\\end{tabular}\n"
      ],
      "text/markdown": [
       "\n",
       "| Location | 1.22.20 | 1.23.20 | 1.24.20 | 1.25.20 | 1.26.20 | 1.27.20 | 1.28.20 | 1.29.20 | 1.30.20 | ... | 2.17.21 | 2.18.21 | 2.19.21 | 2.20.21 | 2.21.21 | 2.22.21 | 2.23.21 | 2.24.21 | 2.25.21 | 2.26.21 |\n",
       "|---|---|---|---|---|---|---|---|---|---|---|---|---|---|---|---|---|---|---|---|---|\n",
       "| Afghanistan         | 0                   | 0                   | 0                   | 0                   | 0                   | 0                   | 0                   | 0                   | 0                   | ...                 |  55540              |  55557              |  55575              |  55580              |  55604              |  55617              |  55646              |  55664              |  55680              |  55696              |\n",
       "| Albania             | 0                   | 0                   | 0                   | 0                   | 0                   | 0                   | 0                   | 0                   | 0                   | ...                 |  95726              |  96838              |  97909              |  99062              | 100246              | 101285              | 102306              | 103327              | 104313              | 105229              |\n",
       "| Algeria             | 0                   | 0                   | 0                   | 0                   | 0                   | 0                   | 0                   | 0                   | 0                   | ...                 | 111247              | 111418              | 111600              | 111764              | 111917              | 112094              | 112279              | 112461              | 112622              | 112805              |\n",
       "| Andorra             | 0                   | 0                   | 0                   | 0                   | 0                   | 0                   | 0                   | 0                   | 0                   | ...                 |  10583              |  10610              |  10645              |  10672              |  10699              |  10712              |  10739              |  10775              |  10799              |  10822              |\n",
       "| Angola              | 0                   | 0                   | 0                   | 0                   | 0                   | 0                   | 0                   | 0                   | 0                   | ...                 |  20400              |  20452              |  20478              |  20499              |  20519              |  20548              |  20584              |  20640              |  20695              |  20759              |\n",
       "| Antigua and Barbuda | 0                   | 0                   | 0                   | 0                   | 0                   | 0                   | 0                   | 0                   | 0                   | ...                 |    525              |    548              |    548              |    598              |    598              |    614              |    636              |    646              |    701              |    701              |\n",
       "\n"
      ],
      "text/plain": [
       "  Location            1.22.20 1.23.20 1.24.20 1.25.20 1.26.20 1.27.20 1.28.20\n",
       "1 Afghanistan         0       0       0       0       0       0       0      \n",
       "2 Albania             0       0       0       0       0       0       0      \n",
       "3 Algeria             0       0       0       0       0       0       0      \n",
       "4 Andorra             0       0       0       0       0       0       0      \n",
       "5 Angola              0       0       0       0       0       0       0      \n",
       "6 Antigua and Barbuda 0       0       0       0       0       0       0      \n",
       "  1.29.20 1.30.20 ... 2.17.21 2.18.21 2.19.21 2.20.21 2.21.21 2.22.21 2.23.21\n",
       "1 0       0       ...  55540   55557   55575   55580   55604   55617   55646 \n",
       "2 0       0       ...  95726   96838   97909   99062  100246  101285  102306 \n",
       "3 0       0       ... 111247  111418  111600  111764  111917  112094  112279 \n",
       "4 0       0       ...  10583   10610   10645   10672   10699   10712   10739 \n",
       "5 0       0       ...  20400   20452   20478   20499   20519   20548   20584 \n",
       "6 0       0       ...    525     548     548     598     598     614     636 \n",
       "  2.24.21 2.25.21 2.26.21\n",
       "1  55664   55680   55696 \n",
       "2 103327  104313  105229 \n",
       "3 112461  112622  112805 \n",
       "4  10775   10799   10822 \n",
       "5  20640   20695   20759 \n",
       "6    646     701     701 "
      ]
     },
     "metadata": {},
     "output_type": "display_data"
    }
   ],
   "source": [
    "temp_a <- a[-(2:3)]\n",
    "head(temp_a)"
   ]
  },
  {
   "cell_type": "code",
   "execution_count": 18,
   "metadata": {},
   "outputs": [
    {
     "data": {
      "text/html": [
       "<table>\n",
       "<thead><tr><th></th><th scope=col>Afghanistan</th><th scope=col>Albania</th><th scope=col>Algeria</th><th scope=col>Andorra</th><th scope=col>Angola</th><th scope=col>Antigua and Barbuda</th><th scope=col>Argentina</th><th scope=col>Armenia</th><th scope=col>Australian Capital Territory: Australia</th><th scope=col>New South Wales: Australia</th><th scope=col>...</th><th scope=col>United Kingdom</th><th scope=col>Uruguay</th><th scope=col>Uzbekistan</th><th scope=col>Vanuatu</th><th scope=col>Venezuela</th><th scope=col>Vietnam</th><th scope=col>West Bank and Gaza</th><th scope=col>Yemen</th><th scope=col>Zambia</th><th scope=col>Zimbabwe</th></tr></thead>\n",
       "<tbody>\n",
       "\t<tr><th scope=row>1.22.20</th><td>0  </td><td>0  </td><td>0  </td><td>0  </td><td>0  </td><td>0  </td><td>0  </td><td>0  </td><td>0  </td><td>0  </td><td>...</td><td>0  </td><td>0  </td><td>0  </td><td>0  </td><td>0  </td><td>0  </td><td>0  </td><td>0  </td><td>0  </td><td>0  </td></tr>\n",
       "\t<tr><th scope=row>1.23.20</th><td>0  </td><td>0  </td><td>0  </td><td>0  </td><td>0  </td><td>0  </td><td>0  </td><td>0  </td><td>0  </td><td>0  </td><td>...</td><td>0  </td><td>0  </td><td>0  </td><td>0  </td><td>0  </td><td>2  </td><td>0  </td><td>0  </td><td>0  </td><td>0  </td></tr>\n",
       "\t<tr><th scope=row>1.24.20</th><td>0  </td><td>0  </td><td>0  </td><td>0  </td><td>0  </td><td>0  </td><td>0  </td><td>0  </td><td>0  </td><td>0  </td><td>...</td><td>0  </td><td>0  </td><td>0  </td><td>0  </td><td>0  </td><td>2  </td><td>0  </td><td>0  </td><td>0  </td><td>0  </td></tr>\n",
       "\t<tr><th scope=row>1.25.20</th><td>0  </td><td>0  </td><td>0  </td><td>0  </td><td>0  </td><td>0  </td><td>0  </td><td>0  </td><td>0  </td><td>0  </td><td>...</td><td>0  </td><td>0  </td><td>0  </td><td>0  </td><td>0  </td><td>2  </td><td>0  </td><td>0  </td><td>0  </td><td>0  </td></tr>\n",
       "\t<tr><th scope=row>1.26.20</th><td>0  </td><td>0  </td><td>0  </td><td>0  </td><td>0  </td><td>0  </td><td>0  </td><td>0  </td><td>0  </td><td>3  </td><td>...</td><td>0  </td><td>0  </td><td>0  </td><td>0  </td><td>0  </td><td>2  </td><td>0  </td><td>0  </td><td>0  </td><td>0  </td></tr>\n",
       "\t<tr><th scope=row>1.27.20</th><td>0  </td><td>0  </td><td>0  </td><td>0  </td><td>0  </td><td>0  </td><td>0  </td><td>0  </td><td>0  </td><td>4  </td><td>...</td><td>0  </td><td>0  </td><td>0  </td><td>0  </td><td>0  </td><td>2  </td><td>0  </td><td>0  </td><td>0  </td><td>0  </td></tr>\n",
       "</tbody>\n",
       "</table>\n"
      ],
      "text/latex": [
       "\\begin{tabular}{r|llllllllllllllllllllllllllllllllllllllllllllllllllllllllllllllllllllllllllllllllllllllllllllllllllllllllllllllllllllllllllllllllllllllllllllllllllllllllllllllllllllllllllllllllllllllllllllllllllllllllllllllllllllllllllllllllllllllllllllllllllllllllllllllllllllllllllllllllll}\n",
       "  & Afghanistan & Albania & Algeria & Andorra & Angola & Antigua and Barbuda & Argentina & Armenia & Australian Capital Territory: Australia & New South Wales: Australia & ... & United Kingdom & Uruguay & Uzbekistan & Vanuatu & Venezuela & Vietnam & West Bank and Gaza & Yemen & Zambia & Zimbabwe\\\\\n",
       "\\hline\n",
       "\t1.22.20 & 0   & 0   & 0   & 0   & 0   & 0   & 0   & 0   & 0   & 0   & ... & 0   & 0   & 0   & 0   & 0   & 0   & 0   & 0   & 0   & 0  \\\\\n",
       "\t1.23.20 & 0   & 0   & 0   & 0   & 0   & 0   & 0   & 0   & 0   & 0   & ... & 0   & 0   & 0   & 0   & 0   & 2   & 0   & 0   & 0   & 0  \\\\\n",
       "\t1.24.20 & 0   & 0   & 0   & 0   & 0   & 0   & 0   & 0   & 0   & 0   & ... & 0   & 0   & 0   & 0   & 0   & 2   & 0   & 0   & 0   & 0  \\\\\n",
       "\t1.25.20 & 0   & 0   & 0   & 0   & 0   & 0   & 0   & 0   & 0   & 0   & ... & 0   & 0   & 0   & 0   & 0   & 2   & 0   & 0   & 0   & 0  \\\\\n",
       "\t1.26.20 & 0   & 0   & 0   & 0   & 0   & 0   & 0   & 0   & 0   & 3   & ... & 0   & 0   & 0   & 0   & 0   & 2   & 0   & 0   & 0   & 0  \\\\\n",
       "\t1.27.20 & 0   & 0   & 0   & 0   & 0   & 0   & 0   & 0   & 0   & 4   & ... & 0   & 0   & 0   & 0   & 0   & 2   & 0   & 0   & 0   & 0  \\\\\n",
       "\\end{tabular}\n"
      ],
      "text/markdown": [
       "\n",
       "| <!--/--> | Afghanistan | Albania | Algeria | Andorra | Angola | Antigua and Barbuda | Argentina | Armenia | Australian Capital Territory: Australia | New South Wales: Australia | ... | United Kingdom | Uruguay | Uzbekistan | Vanuatu | Venezuela | Vietnam | West Bank and Gaza | Yemen | Zambia | Zimbabwe |\n",
       "|---|---|---|---|---|---|---|---|---|---|---|---|---|---|---|---|---|---|---|---|---|---|\n",
       "| 1.22.20 | 0   | 0   | 0   | 0   | 0   | 0   | 0   | 0   | 0   | 0   | ... | 0   | 0   | 0   | 0   | 0   | 0   | 0   | 0   | 0   | 0   |\n",
       "| 1.23.20 | 0   | 0   | 0   | 0   | 0   | 0   | 0   | 0   | 0   | 0   | ... | 0   | 0   | 0   | 0   | 0   | 2   | 0   | 0   | 0   | 0   |\n",
       "| 1.24.20 | 0   | 0   | 0   | 0   | 0   | 0   | 0   | 0   | 0   | 0   | ... | 0   | 0   | 0   | 0   | 0   | 2   | 0   | 0   | 0   | 0   |\n",
       "| 1.25.20 | 0   | 0   | 0   | 0   | 0   | 0   | 0   | 0   | 0   | 0   | ... | 0   | 0   | 0   | 0   | 0   | 2   | 0   | 0   | 0   | 0   |\n",
       "| 1.26.20 | 0   | 0   | 0   | 0   | 0   | 0   | 0   | 0   | 0   | 3   | ... | 0   | 0   | 0   | 0   | 0   | 2   | 0   | 0   | 0   | 0   |\n",
       "| 1.27.20 | 0   | 0   | 0   | 0   | 0   | 0   | 0   | 0   | 0   | 4   | ... | 0   | 0   | 0   | 0   | 0   | 2   | 0   | 0   | 0   | 0   |\n",
       "\n"
      ],
      "text/plain": [
       "        Afghanistan Albania Algeria Andorra Angola Antigua and Barbuda\n",
       "1.22.20 0           0       0       0       0      0                  \n",
       "1.23.20 0           0       0       0       0      0                  \n",
       "1.24.20 0           0       0       0       0      0                  \n",
       "1.25.20 0           0       0       0       0      0                  \n",
       "1.26.20 0           0       0       0       0      0                  \n",
       "1.27.20 0           0       0       0       0      0                  \n",
       "        Argentina Armenia Australian Capital Territory: Australia\n",
       "1.22.20 0         0       0                                      \n",
       "1.23.20 0         0       0                                      \n",
       "1.24.20 0         0       0                                      \n",
       "1.25.20 0         0       0                                      \n",
       "1.26.20 0         0       0                                      \n",
       "1.27.20 0         0       0                                      \n",
       "        New South Wales: Australia ... United Kingdom Uruguay Uzbekistan\n",
       "1.22.20 0                          ... 0              0       0         \n",
       "1.23.20 0                          ... 0              0       0         \n",
       "1.24.20 0                          ... 0              0       0         \n",
       "1.25.20 0                          ... 0              0       0         \n",
       "1.26.20 3                          ... 0              0       0         \n",
       "1.27.20 4                          ... 0              0       0         \n",
       "        Vanuatu Venezuela Vietnam West Bank and Gaza Yemen Zambia Zimbabwe\n",
       "1.22.20 0       0         0       0                  0     0      0       \n",
       "1.23.20 0       0         2       0                  0     0      0       \n",
       "1.24.20 0       0         2       0                  0     0      0       \n",
       "1.25.20 0       0         2       0                  0     0      0       \n",
       "1.26.20 0       0         2       0                  0     0      0       \n",
       "1.27.20 0       0         2       0                  0     0      0       "
      ]
     },
     "metadata": {},
     "output_type": "display_data"
    }
   ],
   "source": [
    "result <- data.frame(t(temp_a[-1]))\n",
    "colnames(result) <- temp_a[, 1]\n",
    "head(result)"
   ]
  },
  {
   "cell_type": "code",
   "execution_count": 19,
   "metadata": {},
   "outputs": [
    {
     "name": "stderr",
     "output_type": "stream",
     "text": [
      "Warning message:\n",
      "\"package 'data.table' was built under R version 3.6.3\"\n",
      "Attaching package: 'data.table'\n",
      "\n",
      "The following objects are masked from 'package:dplyr':\n",
      "\n",
      "    between, first, last\n",
      "\n"
     ]
    },
    {
     "data": {
      "text/html": [
       "<table>\n",
       "<thead><tr><th scope=col>Date</th><th scope=col>Afghanistan</th><th scope=col>Albania</th><th scope=col>Algeria</th><th scope=col>Andorra</th><th scope=col>Angola</th><th scope=col>Antigua and Barbuda</th><th scope=col>Argentina</th><th scope=col>Armenia</th><th scope=col>Australian Capital Territory: Australia</th><th scope=col>...</th><th scope=col>United Kingdom</th><th scope=col>Uruguay</th><th scope=col>Uzbekistan</th><th scope=col>Vanuatu</th><th scope=col>Venezuela</th><th scope=col>Vietnam</th><th scope=col>West Bank and Gaza</th><th scope=col>Yemen</th><th scope=col>Zambia</th><th scope=col>Zimbabwe</th></tr></thead>\n",
       "<tbody>\n",
       "\t<tr><td>1.22.20</td><td>0      </td><td>0      </td><td>0      </td><td>0      </td><td>0      </td><td>0      </td><td>0      </td><td>0      </td><td>0      </td><td>...    </td><td>0      </td><td>0      </td><td>0      </td><td>0      </td><td>0      </td><td>0      </td><td>0      </td><td>0      </td><td>0      </td><td>0      </td></tr>\n",
       "\t<tr><td>1.23.20</td><td>0      </td><td>0      </td><td>0      </td><td>0      </td><td>0      </td><td>0      </td><td>0      </td><td>0      </td><td>0      </td><td>...    </td><td>0      </td><td>0      </td><td>0      </td><td>0      </td><td>0      </td><td>2      </td><td>0      </td><td>0      </td><td>0      </td><td>0      </td></tr>\n",
       "\t<tr><td>1.24.20</td><td>0      </td><td>0      </td><td>0      </td><td>0      </td><td>0      </td><td>0      </td><td>0      </td><td>0      </td><td>0      </td><td>...    </td><td>0      </td><td>0      </td><td>0      </td><td>0      </td><td>0      </td><td>2      </td><td>0      </td><td>0      </td><td>0      </td><td>0      </td></tr>\n",
       "\t<tr><td>1.25.20</td><td>0      </td><td>0      </td><td>0      </td><td>0      </td><td>0      </td><td>0      </td><td>0      </td><td>0      </td><td>0      </td><td>...    </td><td>0      </td><td>0      </td><td>0      </td><td>0      </td><td>0      </td><td>2      </td><td>0      </td><td>0      </td><td>0      </td><td>0      </td></tr>\n",
       "\t<tr><td>1.26.20</td><td>0      </td><td>0      </td><td>0      </td><td>0      </td><td>0      </td><td>0      </td><td>0      </td><td>0      </td><td>0      </td><td>...    </td><td>0      </td><td>0      </td><td>0      </td><td>0      </td><td>0      </td><td>2      </td><td>0      </td><td>0      </td><td>0      </td><td>0      </td></tr>\n",
       "\t<tr><td>1.27.20</td><td>0      </td><td>0      </td><td>0      </td><td>0      </td><td>0      </td><td>0      </td><td>0      </td><td>0      </td><td>0      </td><td>...    </td><td>0      </td><td>0      </td><td>0      </td><td>0      </td><td>0      </td><td>2      </td><td>0      </td><td>0      </td><td>0      </td><td>0      </td></tr>\n",
       "</tbody>\n",
       "</table>\n"
      ],
      "text/latex": [
       "\\begin{tabular}{r|lllllllllllllllllllllllllllllllllllllllllllllllllllllllllllllllllllllllllllllllllllllllllllllllllllllllllllllllllllllllllllllllllllllllllllllllllllllllllllllllllllllllllllllllllllllllllllllllllllllllllllllllllllllllllllllllllllllllllllllllllllllllllllllllllllllllllllllllllll}\n",
       " Date & Afghanistan & Albania & Algeria & Andorra & Angola & Antigua and Barbuda & Argentina & Armenia & Australian Capital Territory: Australia & ... & United Kingdom & Uruguay & Uzbekistan & Vanuatu & Venezuela & Vietnam & West Bank and Gaza & Yemen & Zambia & Zimbabwe\\\\\n",
       "\\hline\n",
       "\t 1.22.20 & 0       & 0       & 0       & 0       & 0       & 0       & 0       & 0       & 0       & ...     & 0       & 0       & 0       & 0       & 0       & 0       & 0       & 0       & 0       & 0      \\\\\n",
       "\t 1.23.20 & 0       & 0       & 0       & 0       & 0       & 0       & 0       & 0       & 0       & ...     & 0       & 0       & 0       & 0       & 0       & 2       & 0       & 0       & 0       & 0      \\\\\n",
       "\t 1.24.20 & 0       & 0       & 0       & 0       & 0       & 0       & 0       & 0       & 0       & ...     & 0       & 0       & 0       & 0       & 0       & 2       & 0       & 0       & 0       & 0      \\\\\n",
       "\t 1.25.20 & 0       & 0       & 0       & 0       & 0       & 0       & 0       & 0       & 0       & ...     & 0       & 0       & 0       & 0       & 0       & 2       & 0       & 0       & 0       & 0      \\\\\n",
       "\t 1.26.20 & 0       & 0       & 0       & 0       & 0       & 0       & 0       & 0       & 0       & ...     & 0       & 0       & 0       & 0       & 0       & 2       & 0       & 0       & 0       & 0      \\\\\n",
       "\t 1.27.20 & 0       & 0       & 0       & 0       & 0       & 0       & 0       & 0       & 0       & ...     & 0       & 0       & 0       & 0       & 0       & 2       & 0       & 0       & 0       & 0      \\\\\n",
       "\\end{tabular}\n"
      ],
      "text/markdown": [
       "\n",
       "| Date | Afghanistan | Albania | Algeria | Andorra | Angola | Antigua and Barbuda | Argentina | Armenia | Australian Capital Territory: Australia | ... | United Kingdom | Uruguay | Uzbekistan | Vanuatu | Venezuela | Vietnam | West Bank and Gaza | Yemen | Zambia | Zimbabwe |\n",
       "|---|---|---|---|---|---|---|---|---|---|---|---|---|---|---|---|---|---|---|---|---|\n",
       "| 1.22.20 | 0       | 0       | 0       | 0       | 0       | 0       | 0       | 0       | 0       | ...     | 0       | 0       | 0       | 0       | 0       | 0       | 0       | 0       | 0       | 0       |\n",
       "| 1.23.20 | 0       | 0       | 0       | 0       | 0       | 0       | 0       | 0       | 0       | ...     | 0       | 0       | 0       | 0       | 0       | 2       | 0       | 0       | 0       | 0       |\n",
       "| 1.24.20 | 0       | 0       | 0       | 0       | 0       | 0       | 0       | 0       | 0       | ...     | 0       | 0       | 0       | 0       | 0       | 2       | 0       | 0       | 0       | 0       |\n",
       "| 1.25.20 | 0       | 0       | 0       | 0       | 0       | 0       | 0       | 0       | 0       | ...     | 0       | 0       | 0       | 0       | 0       | 2       | 0       | 0       | 0       | 0       |\n",
       "| 1.26.20 | 0       | 0       | 0       | 0       | 0       | 0       | 0       | 0       | 0       | ...     | 0       | 0       | 0       | 0       | 0       | 2       | 0       | 0       | 0       | 0       |\n",
       "| 1.27.20 | 0       | 0       | 0       | 0       | 0       | 0       | 0       | 0       | 0       | ...     | 0       | 0       | 0       | 0       | 0       | 2       | 0       | 0       | 0       | 0       |\n",
       "\n"
      ],
      "text/plain": [
       "  Date    Afghanistan Albania Algeria Andorra Angola Antigua and Barbuda\n",
       "1 1.22.20 0           0       0       0       0      0                  \n",
       "2 1.23.20 0           0       0       0       0      0                  \n",
       "3 1.24.20 0           0       0       0       0      0                  \n",
       "4 1.25.20 0           0       0       0       0      0                  \n",
       "5 1.26.20 0           0       0       0       0      0                  \n",
       "6 1.27.20 0           0       0       0       0      0                  \n",
       "  Argentina Armenia Australian Capital Territory: Australia ... United Kingdom\n",
       "1 0         0       0                                       ... 0             \n",
       "2 0         0       0                                       ... 0             \n",
       "3 0         0       0                                       ... 0             \n",
       "4 0         0       0                                       ... 0             \n",
       "5 0         0       0                                       ... 0             \n",
       "6 0         0       0                                       ... 0             \n",
       "  Uruguay Uzbekistan Vanuatu Venezuela Vietnam West Bank and Gaza Yemen Zambia\n",
       "1 0       0          0       0         0       0                  0     0     \n",
       "2 0       0          0       0         2       0                  0     0     \n",
       "3 0       0          0       0         2       0                  0     0     \n",
       "4 0       0          0       0         2       0                  0     0     \n",
       "5 0       0          0       0         2       0                  0     0     \n",
       "6 0       0          0       0         2       0                  0     0     \n",
       "  Zimbabwe\n",
       "1 0       \n",
       "2 0       \n",
       "3 0       \n",
       "4 0       \n",
       "5 0       \n",
       "6 0       "
      ]
     },
     "metadata": {},
     "output_type": "display_data"
    }
   ],
   "source": [
    "library(data.table)\n",
    "setDT(result, keep.rownames=\"Date\")\n",
    "head(result)"
   ]
  },
  {
   "cell_type": "code",
   "execution_count": 20,
   "metadata": {},
   "outputs": [
    {
     "data": {
      "text/html": [
       "<table>\n",
       "<thead><tr><th scope=col>Date</th><th scope=col>Afghanistan</th><th scope=col>Albania</th><th scope=col>Algeria</th><th scope=col>Andorra</th><th scope=col>Angola</th><th scope=col>Antigua and Barbuda</th><th scope=col>Argentina</th><th scope=col>Armenia</th><th scope=col>Australian Capital Territory: Australia</th><th scope=col>...</th><th scope=col>United Kingdom</th><th scope=col>Uruguay</th><th scope=col>Uzbekistan</th><th scope=col>Vanuatu</th><th scope=col>Venezuela</th><th scope=col>Vietnam</th><th scope=col>West Bank and Gaza</th><th scope=col>Yemen</th><th scope=col>Zambia</th><th scope=col>Zimbabwe</th></tr></thead>\n",
       "<tbody>\n",
       "\t<tr><td>2020-01-22</td><td>0         </td><td>0         </td><td>0         </td><td>0         </td><td>0         </td><td>0         </td><td>0         </td><td>0         </td><td>0         </td><td>...       </td><td>0         </td><td>0         </td><td>0         </td><td>0         </td><td>0         </td><td>0         </td><td>0         </td><td>0         </td><td>0         </td><td>0         </td></tr>\n",
       "\t<tr><td>2020-01-23</td><td>0         </td><td>0         </td><td>0         </td><td>0         </td><td>0         </td><td>0         </td><td>0         </td><td>0         </td><td>0         </td><td>...       </td><td>0         </td><td>0         </td><td>0         </td><td>0         </td><td>0         </td><td>2         </td><td>0         </td><td>0         </td><td>0         </td><td>0         </td></tr>\n",
       "\t<tr><td>2020-01-24</td><td>0         </td><td>0         </td><td>0         </td><td>0         </td><td>0         </td><td>0         </td><td>0         </td><td>0         </td><td>0         </td><td>...       </td><td>0         </td><td>0         </td><td>0         </td><td>0         </td><td>0         </td><td>2         </td><td>0         </td><td>0         </td><td>0         </td><td>0         </td></tr>\n",
       "\t<tr><td>2020-01-25</td><td>0         </td><td>0         </td><td>0         </td><td>0         </td><td>0         </td><td>0         </td><td>0         </td><td>0         </td><td>0         </td><td>...       </td><td>0         </td><td>0         </td><td>0         </td><td>0         </td><td>0         </td><td>2         </td><td>0         </td><td>0         </td><td>0         </td><td>0         </td></tr>\n",
       "\t<tr><td>2020-01-26</td><td>0         </td><td>0         </td><td>0         </td><td>0         </td><td>0         </td><td>0         </td><td>0         </td><td>0         </td><td>0         </td><td>...       </td><td>0         </td><td>0         </td><td>0         </td><td>0         </td><td>0         </td><td>2         </td><td>0         </td><td>0         </td><td>0         </td><td>0         </td></tr>\n",
       "\t<tr><td>2020-01-27</td><td>0         </td><td>0         </td><td>0         </td><td>0         </td><td>0         </td><td>0         </td><td>0         </td><td>0         </td><td>0         </td><td>...       </td><td>0         </td><td>0         </td><td>0         </td><td>0         </td><td>0         </td><td>2         </td><td>0         </td><td>0         </td><td>0         </td><td>0         </td></tr>\n",
       "</tbody>\n",
       "</table>\n"
      ],
      "text/latex": [
       "\\begin{tabular}{r|lllllllllllllllllllllllllllllllllllllllllllllllllllllllllllllllllllllllllllllllllllllllllllllllllllllllllllllllllllllllllllllllllllllllllllllllllllllllllllllllllllllllllllllllllllllllllllllllllllllllllllllllllllllllllllllllllllllllllllllllllllllllllllllllllllllllllllllllllll}\n",
       " Date & Afghanistan & Albania & Algeria & Andorra & Angola & Antigua and Barbuda & Argentina & Armenia & Australian Capital Territory: Australia & ... & United Kingdom & Uruguay & Uzbekistan & Vanuatu & Venezuela & Vietnam & West Bank and Gaza & Yemen & Zambia & Zimbabwe\\\\\n",
       "\\hline\n",
       "\t 2020-01-22 & 0          & 0          & 0          & 0          & 0          & 0          & 0          & 0          & 0          & ...        & 0          & 0          & 0          & 0          & 0          & 0          & 0          & 0          & 0          & 0         \\\\\n",
       "\t 2020-01-23 & 0          & 0          & 0          & 0          & 0          & 0          & 0          & 0          & 0          & ...        & 0          & 0          & 0          & 0          & 0          & 2          & 0          & 0          & 0          & 0         \\\\\n",
       "\t 2020-01-24 & 0          & 0          & 0          & 0          & 0          & 0          & 0          & 0          & 0          & ...        & 0          & 0          & 0          & 0          & 0          & 2          & 0          & 0          & 0          & 0         \\\\\n",
       "\t 2020-01-25 & 0          & 0          & 0          & 0          & 0          & 0          & 0          & 0          & 0          & ...        & 0          & 0          & 0          & 0          & 0          & 2          & 0          & 0          & 0          & 0         \\\\\n",
       "\t 2020-01-26 & 0          & 0          & 0          & 0          & 0          & 0          & 0          & 0          & 0          & ...        & 0          & 0          & 0          & 0          & 0          & 2          & 0          & 0          & 0          & 0         \\\\\n",
       "\t 2020-01-27 & 0          & 0          & 0          & 0          & 0          & 0          & 0          & 0          & 0          & ...        & 0          & 0          & 0          & 0          & 0          & 2          & 0          & 0          & 0          & 0         \\\\\n",
       "\\end{tabular}\n"
      ],
      "text/markdown": [
       "\n",
       "| Date | Afghanistan | Albania | Algeria | Andorra | Angola | Antigua and Barbuda | Argentina | Armenia | Australian Capital Territory: Australia | ... | United Kingdom | Uruguay | Uzbekistan | Vanuatu | Venezuela | Vietnam | West Bank and Gaza | Yemen | Zambia | Zimbabwe |\n",
       "|---|---|---|---|---|---|---|---|---|---|---|---|---|---|---|---|---|---|---|---|---|\n",
       "| 2020-01-22 | 0          | 0          | 0          | 0          | 0          | 0          | 0          | 0          | 0          | ...        | 0          | 0          | 0          | 0          | 0          | 0          | 0          | 0          | 0          | 0          |\n",
       "| 2020-01-23 | 0          | 0          | 0          | 0          | 0          | 0          | 0          | 0          | 0          | ...        | 0          | 0          | 0          | 0          | 0          | 2          | 0          | 0          | 0          | 0          |\n",
       "| 2020-01-24 | 0          | 0          | 0          | 0          | 0          | 0          | 0          | 0          | 0          | ...        | 0          | 0          | 0          | 0          | 0          | 2          | 0          | 0          | 0          | 0          |\n",
       "| 2020-01-25 | 0          | 0          | 0          | 0          | 0          | 0          | 0          | 0          | 0          | ...        | 0          | 0          | 0          | 0          | 0          | 2          | 0          | 0          | 0          | 0          |\n",
       "| 2020-01-26 | 0          | 0          | 0          | 0          | 0          | 0          | 0          | 0          | 0          | ...        | 0          | 0          | 0          | 0          | 0          | 2          | 0          | 0          | 0          | 0          |\n",
       "| 2020-01-27 | 0          | 0          | 0          | 0          | 0          | 0          | 0          | 0          | 0          | ...        | 0          | 0          | 0          | 0          | 0          | 2          | 0          | 0          | 0          | 0          |\n",
       "\n"
      ],
      "text/plain": [
       "  Date       Afghanistan Albania Algeria Andorra Angola Antigua and Barbuda\n",
       "1 2020-01-22 0           0       0       0       0      0                  \n",
       "2 2020-01-23 0           0       0       0       0      0                  \n",
       "3 2020-01-24 0           0       0       0       0      0                  \n",
       "4 2020-01-25 0           0       0       0       0      0                  \n",
       "5 2020-01-26 0           0       0       0       0      0                  \n",
       "6 2020-01-27 0           0       0       0       0      0                  \n",
       "  Argentina Armenia Australian Capital Territory: Australia ... United Kingdom\n",
       "1 0         0       0                                       ... 0             \n",
       "2 0         0       0                                       ... 0             \n",
       "3 0         0       0                                       ... 0             \n",
       "4 0         0       0                                       ... 0             \n",
       "5 0         0       0                                       ... 0             \n",
       "6 0         0       0                                       ... 0             \n",
       "  Uruguay Uzbekistan Vanuatu Venezuela Vietnam West Bank and Gaza Yemen Zambia\n",
       "1 0       0          0       0         0       0                  0     0     \n",
       "2 0       0          0       0         2       0                  0     0     \n",
       "3 0       0          0       0         2       0                  0     0     \n",
       "4 0       0          0       0         2       0                  0     0     \n",
       "5 0       0          0       0         2       0                  0     0     \n",
       "6 0       0          0       0         2       0                  0     0     \n",
       "  Zimbabwe\n",
       "1 0       \n",
       "2 0       \n",
       "3 0       \n",
       "4 0       \n",
       "5 0       \n",
       "6 0       "
      ]
     },
     "metadata": {},
     "output_type": "display_data"
    }
   ],
   "source": [
    "result$Date <- as.Date(result$Date, format=\"%m.%d.%y\")\n",
    "head(result)"
   ]
  },
  {
   "cell_type": "markdown",
   "metadata": {},
   "source": [
    "### 6"
   ]
  },
  {
   "cell_type": "code",
   "execution_count": 21,
   "metadata": {},
   "outputs": [],
   "source": [
    "dir.create(file.path(\"./\", \"data_output\"), showWarnings=FALSE)"
   ]
  },
  {
   "cell_type": "code",
   "execution_count": 22,
   "metadata": {},
   "outputs": [],
   "source": [
    "write.table(result, \"./data_output/result.txt\")"
   ]
  },
  {
   "cell_type": "code",
   "execution_count": 23,
   "metadata": {},
   "outputs": [],
   "source": [
    "write.csv(result, \"./data_output/result.csv\", row.names=FALSE)"
   ]
  },
  {
   "cell_type": "code",
   "execution_count": 24,
   "metadata": {},
   "outputs": [
    {
     "name": "stderr",
     "output_type": "stream",
     "text": [
      "Warning message:\n",
      "\"package 'openxlsx' was built under R version 3.6.3\""
     ]
    }
   ],
   "source": [
    "library(openxlsx)\n",
    "write.xlsx(result, \"./data_output/result.xlsx\")"
   ]
  },
  {
   "cell_type": "code",
   "execution_count": null,
   "metadata": {},
   "outputs": [],
   "source": []
  }
 ],
 "metadata": {
  "kernelspec": {
   "display_name": "R",
   "language": "R",
   "name": "ir"
  },
  "language_info": {
   "codemirror_mode": "r",
   "file_extension": ".r",
   "mimetype": "text/x-r-source",
   "name": "R",
   "pygments_lexer": "r",
   "version": "3.6.1"
  }
 },
 "nbformat": 4,
 "nbformat_minor": 4
}
